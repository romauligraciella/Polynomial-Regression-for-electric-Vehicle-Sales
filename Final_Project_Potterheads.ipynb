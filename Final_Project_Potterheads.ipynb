{
  "cells": [
    {
      "cell_type": "markdown",
      "source": [
        "POTTERHEADS\n",
        "- Romauli Graciella Debora\n",
        "- Deanarani Kharisma\n",
        "- Zalfa Aretha Fahira Ranstya"
      ],
      "metadata": {
        "id": "bbwrVQNx1e5g"
      }
    },
    {
      "cell_type": "markdown",
      "source": [
        "# Import Dependency"
      ],
      "metadata": {
        "id": "J4FpBHHanh0k"
      }
    },
    {
      "cell_type": "code",
      "execution_count": null,
      "metadata": {
        "id": "8P6o_FStSxDO"
      },
      "outputs": [],
      "source": [
        "import pandas as pd\n",
        "import numpy as np\n",
        "import seaborn as sns\n",
        "import matplotlib.pyplot as plt\n",
        "%matplotlib inline\n",
        "\n",
        "# Modeling\n",
        "from sklearn.preprocessing import PolynomialFeatures\n",
        "from sklearn.linear_model import LinearRegression\n",
        "from sklearn.ensemble import RandomForestRegressor\n",
        "\n",
        "# Model Evaluation\n",
        "from sklearn.metrics import r2_score,mean_squared_error, mean_absolute_error"
      ]
    },
    {
      "cell_type": "code",
      "execution_count": null,
      "metadata": {
        "colab": {
          "base_uri": "https://localhost:8080/",
          "height": 1000
        },
        "id": "kcqxg5jhq1z_",
        "outputId": "f1fcc5d5-3468-4e7d-896a-4429162aca5a"
      },
      "outputs": [
        {
          "output_type": "execute_result",
          "data": {
            "text/plain": [
              "        VIN (1-10)     County          City State  Postal Code  Model Year  \\\n",
              "0       1N4AZ0CP5D     Kitsap     Bremerton    WA      98310.0        2013   \n",
              "1       1N4AZ1CP8K     Kitsap  Port Orchard    WA      98366.0        2019   \n",
              "2       5YJXCAE28L       King       Seattle    WA      98199.0        2020   \n",
              "3       SADHC2S1XK   Thurston       Olympia    WA      98503.0        2019   \n",
              "4       JN1AZ0CP9B  Snohomish       Everett    WA      98204.0        2011   \n",
              "...            ...        ...           ...   ...          ...         ...   \n",
              "138774  KNAGV4LD6L      Clark     Vancouver    WA      98686.0        2020   \n",
              "138775  7SAYGDEE1N   Thurston         Lacey    WA      98503.0        2022   \n",
              "138776  5YJYGDEE7M     Benton      Richland    WA      99352.0        2021   \n",
              "138777  WBY33AW08P     Pierce        Tacoma    WA      98443.0        2023   \n",
              "138778  JN1AZ0CP2B       King       Seattle    WA      98118.0        2011   \n",
              "\n",
              "          Make    Model                   Electric Vehicle Type  \\\n",
              "0       NISSAN     LEAF          Battery Electric Vehicle (BEV)   \n",
              "1       NISSAN     LEAF          Battery Electric Vehicle (BEV)   \n",
              "2        TESLA  MODEL X          Battery Electric Vehicle (BEV)   \n",
              "3       JAGUAR   I-PACE          Battery Electric Vehicle (BEV)   \n",
              "4       NISSAN     LEAF          Battery Electric Vehicle (BEV)   \n",
              "...        ...      ...                                     ...   \n",
              "138774     KIA   OPTIMA  Plug-in Hybrid Electric Vehicle (PHEV)   \n",
              "138775   TESLA  MODEL Y          Battery Electric Vehicle (BEV)   \n",
              "138776   TESLA  MODEL Y          Battery Electric Vehicle (BEV)   \n",
              "138777     BMW       I4          Battery Electric Vehicle (BEV)   \n",
              "138778  NISSAN     LEAF          Battery Electric Vehicle (BEV)   \n",
              "\n",
              "        Clean Alternative Fuel Vehicle (CAFV) Eligibility  Electric Range  \\\n",
              "0                 Clean Alternative Fuel Vehicle Eligible              75   \n",
              "1                 Clean Alternative Fuel Vehicle Eligible             150   \n",
              "2                 Clean Alternative Fuel Vehicle Eligible             293   \n",
              "3                 Clean Alternative Fuel Vehicle Eligible             234   \n",
              "4                 Clean Alternative Fuel Vehicle Eligible              73   \n",
              "...                                                   ...             ...   \n",
              "138774              Not eligible due to low battery range              28   \n",
              "138775  Eligibility unknown as battery range has not b...               0   \n",
              "138776  Eligibility unknown as battery range has not b...               0   \n",
              "138777  Eligibility unknown as battery range has not b...               0   \n",
              "138778            Clean Alternative Fuel Vehicle Eligible              73   \n",
              "\n",
              "        Base MSRP  Legislative District  DOL Vehicle ID  \\\n",
              "0               0                  23.0       214384901   \n",
              "1               0                  26.0       271008636   \n",
              "2               0                  36.0         8781552   \n",
              "3               0                   2.0         8308492   \n",
              "4               0                  21.0       245524527   \n",
              "...           ...                   ...             ...   \n",
              "138774          0                  17.0       122272881   \n",
              "138775          0                  22.0       187390038   \n",
              "138776          0                   8.0       181300416   \n",
              "138777          0                  25.0       224612055   \n",
              "138778          0                  37.0       246621546   \n",
              "\n",
              "                                      Vehicle Location  \\\n",
              "0       POINT (-122.61136499999998 47.575195000000065)   \n",
              "1        POINT (-122.63926499999997 47.53730000000007)   \n",
              "2                POINT (-122.394185 47.63919500000003)   \n",
              "3                           POINT (-122.8285 47.03646)   \n",
              "4        POINT (-122.24128499999995 47.91088000000008)   \n",
              "...                                                ...   \n",
              "138774   POINT (-122.64839529999995 45.70104270000007)   \n",
              "138775                      POINT (-122.8285 47.03646)   \n",
              "138776   POINT (-119.29441499999996 46.27187500000008)   \n",
              "138777   POINT (-122.36463499999996 47.19449000000003)   \n",
              "138778  POINT (-122.28338999999994 47.549285000000054)   \n",
              "\n",
              "                                         Electric Utility  2020 Census Tract  \n",
              "0                                  PUGET SOUND ENERGY INC       5.303508e+10  \n",
              "1                                  PUGET SOUND ENERGY INC       5.303509e+10  \n",
              "2            CITY OF SEATTLE - (WA)|CITY OF TACOMA - (WA)       5.303301e+10  \n",
              "3                                  PUGET SOUND ENERGY INC       5.306701e+10  \n",
              "4                                  PUGET SOUND ENERGY INC       5.306104e+10  \n",
              "...                                                   ...                ...  \n",
              "138774  BONNEVILLE POWER ADMINISTRATION||PUD NO 1 OF C...       5.301104e+10  \n",
              "138775                             PUGET SOUND ENERGY INC       5.306701e+10  \n",
              "138776  BONNEVILLE POWER ADMINISTRATION||CITY OF RICHL...       5.300501e+10  \n",
              "138777  BONNEVILLE POWER ADMINISTRATION||CITY OF TACOM...       5.305394e+10  \n",
              "138778       CITY OF SEATTLE - (WA)|CITY OF TACOMA - (WA)       5.303301e+10  \n",
              "\n",
              "[138779 rows x 17 columns]"
            ],
            "text/html": [
              "\n",
              "  <div id=\"df-ab6c3a8e-f80f-4111-94a9-9703c9fe023d\" class=\"colab-df-container\">\n",
              "    <div>\n",
              "<style scoped>\n",
              "    .dataframe tbody tr th:only-of-type {\n",
              "        vertical-align: middle;\n",
              "    }\n",
              "\n",
              "    .dataframe tbody tr th {\n",
              "        vertical-align: top;\n",
              "    }\n",
              "\n",
              "    .dataframe thead th {\n",
              "        text-align: right;\n",
              "    }\n",
              "</style>\n",
              "<table border=\"1\" class=\"dataframe\">\n",
              "  <thead>\n",
              "    <tr style=\"text-align: right;\">\n",
              "      <th></th>\n",
              "      <th>VIN (1-10)</th>\n",
              "      <th>County</th>\n",
              "      <th>City</th>\n",
              "      <th>State</th>\n",
              "      <th>Postal Code</th>\n",
              "      <th>Model Year</th>\n",
              "      <th>Make</th>\n",
              "      <th>Model</th>\n",
              "      <th>Electric Vehicle Type</th>\n",
              "      <th>Clean Alternative Fuel Vehicle (CAFV) Eligibility</th>\n",
              "      <th>Electric Range</th>\n",
              "      <th>Base MSRP</th>\n",
              "      <th>Legislative District</th>\n",
              "      <th>DOL Vehicle ID</th>\n",
              "      <th>Vehicle Location</th>\n",
              "      <th>Electric Utility</th>\n",
              "      <th>2020 Census Tract</th>\n",
              "    </tr>\n",
              "  </thead>\n",
              "  <tbody>\n",
              "    <tr>\n",
              "      <th>0</th>\n",
              "      <td>1N4AZ0CP5D</td>\n",
              "      <td>Kitsap</td>\n",
              "      <td>Bremerton</td>\n",
              "      <td>WA</td>\n",
              "      <td>98310.0</td>\n",
              "      <td>2013</td>\n",
              "      <td>NISSAN</td>\n",
              "      <td>LEAF</td>\n",
              "      <td>Battery Electric Vehicle (BEV)</td>\n",
              "      <td>Clean Alternative Fuel Vehicle Eligible</td>\n",
              "      <td>75</td>\n",
              "      <td>0</td>\n",
              "      <td>23.0</td>\n",
              "      <td>214384901</td>\n",
              "      <td>POINT (-122.61136499999998 47.575195000000065)</td>\n",
              "      <td>PUGET SOUND ENERGY INC</td>\n",
              "      <td>5.303508e+10</td>\n",
              "    </tr>\n",
              "    <tr>\n",
              "      <th>1</th>\n",
              "      <td>1N4AZ1CP8K</td>\n",
              "      <td>Kitsap</td>\n",
              "      <td>Port Orchard</td>\n",
              "      <td>WA</td>\n",
              "      <td>98366.0</td>\n",
              "      <td>2019</td>\n",
              "      <td>NISSAN</td>\n",
              "      <td>LEAF</td>\n",
              "      <td>Battery Electric Vehicle (BEV)</td>\n",
              "      <td>Clean Alternative Fuel Vehicle Eligible</td>\n",
              "      <td>150</td>\n",
              "      <td>0</td>\n",
              "      <td>26.0</td>\n",
              "      <td>271008636</td>\n",
              "      <td>POINT (-122.63926499999997 47.53730000000007)</td>\n",
              "      <td>PUGET SOUND ENERGY INC</td>\n",
              "      <td>5.303509e+10</td>\n",
              "    </tr>\n",
              "    <tr>\n",
              "      <th>2</th>\n",
              "      <td>5YJXCAE28L</td>\n",
              "      <td>King</td>\n",
              "      <td>Seattle</td>\n",
              "      <td>WA</td>\n",
              "      <td>98199.0</td>\n",
              "      <td>2020</td>\n",
              "      <td>TESLA</td>\n",
              "      <td>MODEL X</td>\n",
              "      <td>Battery Electric Vehicle (BEV)</td>\n",
              "      <td>Clean Alternative Fuel Vehicle Eligible</td>\n",
              "      <td>293</td>\n",
              "      <td>0</td>\n",
              "      <td>36.0</td>\n",
              "      <td>8781552</td>\n",
              "      <td>POINT (-122.394185 47.63919500000003)</td>\n",
              "      <td>CITY OF SEATTLE - (WA)|CITY OF TACOMA - (WA)</td>\n",
              "      <td>5.303301e+10</td>\n",
              "    </tr>\n",
              "    <tr>\n",
              "      <th>3</th>\n",
              "      <td>SADHC2S1XK</td>\n",
              "      <td>Thurston</td>\n",
              "      <td>Olympia</td>\n",
              "      <td>WA</td>\n",
              "      <td>98503.0</td>\n",
              "      <td>2019</td>\n",
              "      <td>JAGUAR</td>\n",
              "      <td>I-PACE</td>\n",
              "      <td>Battery Electric Vehicle (BEV)</td>\n",
              "      <td>Clean Alternative Fuel Vehicle Eligible</td>\n",
              "      <td>234</td>\n",
              "      <td>0</td>\n",
              "      <td>2.0</td>\n",
              "      <td>8308492</td>\n",
              "      <td>POINT (-122.8285 47.03646)</td>\n",
              "      <td>PUGET SOUND ENERGY INC</td>\n",
              "      <td>5.306701e+10</td>\n",
              "    </tr>\n",
              "    <tr>\n",
              "      <th>4</th>\n",
              "      <td>JN1AZ0CP9B</td>\n",
              "      <td>Snohomish</td>\n",
              "      <td>Everett</td>\n",
              "      <td>WA</td>\n",
              "      <td>98204.0</td>\n",
              "      <td>2011</td>\n",
              "      <td>NISSAN</td>\n",
              "      <td>LEAF</td>\n",
              "      <td>Battery Electric Vehicle (BEV)</td>\n",
              "      <td>Clean Alternative Fuel Vehicle Eligible</td>\n",
              "      <td>73</td>\n",
              "      <td>0</td>\n",
              "      <td>21.0</td>\n",
              "      <td>245524527</td>\n",
              "      <td>POINT (-122.24128499999995 47.91088000000008)</td>\n",
              "      <td>PUGET SOUND ENERGY INC</td>\n",
              "      <td>5.306104e+10</td>\n",
              "    </tr>\n",
              "    <tr>\n",
              "      <th>...</th>\n",
              "      <td>...</td>\n",
              "      <td>...</td>\n",
              "      <td>...</td>\n",
              "      <td>...</td>\n",
              "      <td>...</td>\n",
              "      <td>...</td>\n",
              "      <td>...</td>\n",
              "      <td>...</td>\n",
              "      <td>...</td>\n",
              "      <td>...</td>\n",
              "      <td>...</td>\n",
              "      <td>...</td>\n",
              "      <td>...</td>\n",
              "      <td>...</td>\n",
              "      <td>...</td>\n",
              "      <td>...</td>\n",
              "      <td>...</td>\n",
              "    </tr>\n",
              "    <tr>\n",
              "      <th>138774</th>\n",
              "      <td>KNAGV4LD6L</td>\n",
              "      <td>Clark</td>\n",
              "      <td>Vancouver</td>\n",
              "      <td>WA</td>\n",
              "      <td>98686.0</td>\n",
              "      <td>2020</td>\n",
              "      <td>KIA</td>\n",
              "      <td>OPTIMA</td>\n",
              "      <td>Plug-in Hybrid Electric Vehicle (PHEV)</td>\n",
              "      <td>Not eligible due to low battery range</td>\n",
              "      <td>28</td>\n",
              "      <td>0</td>\n",
              "      <td>17.0</td>\n",
              "      <td>122272881</td>\n",
              "      <td>POINT (-122.64839529999995 45.70104270000007)</td>\n",
              "      <td>BONNEVILLE POWER ADMINISTRATION||PUD NO 1 OF C...</td>\n",
              "      <td>5.301104e+10</td>\n",
              "    </tr>\n",
              "    <tr>\n",
              "      <th>138775</th>\n",
              "      <td>7SAYGDEE1N</td>\n",
              "      <td>Thurston</td>\n",
              "      <td>Lacey</td>\n",
              "      <td>WA</td>\n",
              "      <td>98503.0</td>\n",
              "      <td>2022</td>\n",
              "      <td>TESLA</td>\n",
              "      <td>MODEL Y</td>\n",
              "      <td>Battery Electric Vehicle (BEV)</td>\n",
              "      <td>Eligibility unknown as battery range has not b...</td>\n",
              "      <td>0</td>\n",
              "      <td>0</td>\n",
              "      <td>22.0</td>\n",
              "      <td>187390038</td>\n",
              "      <td>POINT (-122.8285 47.03646)</td>\n",
              "      <td>PUGET SOUND ENERGY INC</td>\n",
              "      <td>5.306701e+10</td>\n",
              "    </tr>\n",
              "    <tr>\n",
              "      <th>138776</th>\n",
              "      <td>5YJYGDEE7M</td>\n",
              "      <td>Benton</td>\n",
              "      <td>Richland</td>\n",
              "      <td>WA</td>\n",
              "      <td>99352.0</td>\n",
              "      <td>2021</td>\n",
              "      <td>TESLA</td>\n",
              "      <td>MODEL Y</td>\n",
              "      <td>Battery Electric Vehicle (BEV)</td>\n",
              "      <td>Eligibility unknown as battery range has not b...</td>\n",
              "      <td>0</td>\n",
              "      <td>0</td>\n",
              "      <td>8.0</td>\n",
              "      <td>181300416</td>\n",
              "      <td>POINT (-119.29441499999996 46.27187500000008)</td>\n",
              "      <td>BONNEVILLE POWER ADMINISTRATION||CITY OF RICHL...</td>\n",
              "      <td>5.300501e+10</td>\n",
              "    </tr>\n",
              "    <tr>\n",
              "      <th>138777</th>\n",
              "      <td>WBY33AW08P</td>\n",
              "      <td>Pierce</td>\n",
              "      <td>Tacoma</td>\n",
              "      <td>WA</td>\n",
              "      <td>98443.0</td>\n",
              "      <td>2023</td>\n",
              "      <td>BMW</td>\n",
              "      <td>I4</td>\n",
              "      <td>Battery Electric Vehicle (BEV)</td>\n",
              "      <td>Eligibility unknown as battery range has not b...</td>\n",
              "      <td>0</td>\n",
              "      <td>0</td>\n",
              "      <td>25.0</td>\n",
              "      <td>224612055</td>\n",
              "      <td>POINT (-122.36463499999996 47.19449000000003)</td>\n",
              "      <td>BONNEVILLE POWER ADMINISTRATION||CITY OF TACOM...</td>\n",
              "      <td>5.305394e+10</td>\n",
              "    </tr>\n",
              "    <tr>\n",
              "      <th>138778</th>\n",
              "      <td>JN1AZ0CP2B</td>\n",
              "      <td>King</td>\n",
              "      <td>Seattle</td>\n",
              "      <td>WA</td>\n",
              "      <td>98118.0</td>\n",
              "      <td>2011</td>\n",
              "      <td>NISSAN</td>\n",
              "      <td>LEAF</td>\n",
              "      <td>Battery Electric Vehicle (BEV)</td>\n",
              "      <td>Clean Alternative Fuel Vehicle Eligible</td>\n",
              "      <td>73</td>\n",
              "      <td>0</td>\n",
              "      <td>37.0</td>\n",
              "      <td>246621546</td>\n",
              "      <td>POINT (-122.28338999999994 47.549285000000054)</td>\n",
              "      <td>CITY OF SEATTLE - (WA)|CITY OF TACOMA - (WA)</td>\n",
              "      <td>5.303301e+10</td>\n",
              "    </tr>\n",
              "  </tbody>\n",
              "</table>\n",
              "<p>138779 rows × 17 columns</p>\n",
              "</div>\n",
              "    <div class=\"colab-df-buttons\">\n",
              "\n",
              "  <div class=\"colab-df-container\">\n",
              "    <button class=\"colab-df-convert\" onclick=\"convertToInteractive('df-ab6c3a8e-f80f-4111-94a9-9703c9fe023d')\"\n",
              "            title=\"Convert this dataframe to an interactive table.\"\n",
              "            style=\"display:none;\">\n",
              "\n",
              "  <svg xmlns=\"http://www.w3.org/2000/svg\" height=\"24px\" viewBox=\"0 -960 960 960\">\n",
              "    <path d=\"M120-120v-720h720v720H120Zm60-500h600v-160H180v160Zm220 220h160v-160H400v160Zm0 220h160v-160H400v160ZM180-400h160v-160H180v160Zm440 0h160v-160H620v160ZM180-180h160v-160H180v160Zm440 0h160v-160H620v160Z\"/>\n",
              "  </svg>\n",
              "    </button>\n",
              "\n",
              "  <style>\n",
              "    .colab-df-container {\n",
              "      display:flex;\n",
              "      gap: 12px;\n",
              "    }\n",
              "\n",
              "    .colab-df-convert {\n",
              "      background-color: #E8F0FE;\n",
              "      border: none;\n",
              "      border-radius: 50%;\n",
              "      cursor: pointer;\n",
              "      display: none;\n",
              "      fill: #1967D2;\n",
              "      height: 32px;\n",
              "      padding: 0 0 0 0;\n",
              "      width: 32px;\n",
              "    }\n",
              "\n",
              "    .colab-df-convert:hover {\n",
              "      background-color: #E2EBFA;\n",
              "      box-shadow: 0px 1px 2px rgba(60, 64, 67, 0.3), 0px 1px 3px 1px rgba(60, 64, 67, 0.15);\n",
              "      fill: #174EA6;\n",
              "    }\n",
              "\n",
              "    .colab-df-buttons div {\n",
              "      margin-bottom: 4px;\n",
              "    }\n",
              "\n",
              "    [theme=dark] .colab-df-convert {\n",
              "      background-color: #3B4455;\n",
              "      fill: #D2E3FC;\n",
              "    }\n",
              "\n",
              "    [theme=dark] .colab-df-convert:hover {\n",
              "      background-color: #434B5C;\n",
              "      box-shadow: 0px 1px 3px 1px rgba(0, 0, 0, 0.15);\n",
              "      filter: drop-shadow(0px 1px 2px rgba(0, 0, 0, 0.3));\n",
              "      fill: #FFFFFF;\n",
              "    }\n",
              "  </style>\n",
              "\n",
              "    <script>\n",
              "      const buttonEl =\n",
              "        document.querySelector('#df-ab6c3a8e-f80f-4111-94a9-9703c9fe023d button.colab-df-convert');\n",
              "      buttonEl.style.display =\n",
              "        google.colab.kernel.accessAllowed ? 'block' : 'none';\n",
              "\n",
              "      async function convertToInteractive(key) {\n",
              "        const element = document.querySelector('#df-ab6c3a8e-f80f-4111-94a9-9703c9fe023d');\n",
              "        const dataTable =\n",
              "          await google.colab.kernel.invokeFunction('convertToInteractive',\n",
              "                                                    [key], {});\n",
              "        if (!dataTable) return;\n",
              "\n",
              "        const docLinkHtml = 'Like what you see? Visit the ' +\n",
              "          '<a target=\"_blank\" href=https://colab.research.google.com/notebooks/data_table.ipynb>data table notebook</a>'\n",
              "          + ' to learn more about interactive tables.';\n",
              "        element.innerHTML = '';\n",
              "        dataTable['output_type'] = 'display_data';\n",
              "        await google.colab.output.renderOutput(dataTable, element);\n",
              "        const docLink = document.createElement('div');\n",
              "        docLink.innerHTML = docLinkHtml;\n",
              "        element.appendChild(docLink);\n",
              "      }\n",
              "    </script>\n",
              "  </div>\n",
              "\n",
              "\n",
              "<div id=\"df-62b164a8-542b-4c1a-89a3-ff499284f21a\">\n",
              "  <button class=\"colab-df-quickchart\" onclick=\"quickchart('df-62b164a8-542b-4c1a-89a3-ff499284f21a')\"\n",
              "            title=\"Suggest charts.\"\n",
              "            style=\"display:none;\">\n",
              "\n",
              "<svg xmlns=\"http://www.w3.org/2000/svg\" height=\"24px\"viewBox=\"0 0 24 24\"\n",
              "     width=\"24px\">\n",
              "    <g>\n",
              "        <path d=\"M19 3H5c-1.1 0-2 .9-2 2v14c0 1.1.9 2 2 2h14c1.1 0 2-.9 2-2V5c0-1.1-.9-2-2-2zM9 17H7v-7h2v7zm4 0h-2V7h2v10zm4 0h-2v-4h2v4z\"/>\n",
              "    </g>\n",
              "</svg>\n",
              "  </button>\n",
              "\n",
              "<style>\n",
              "  .colab-df-quickchart {\n",
              "    background-color: #E8F0FE;\n",
              "    border: none;\n",
              "    border-radius: 50%;\n",
              "    cursor: pointer;\n",
              "    display: none;\n",
              "    fill: #1967D2;\n",
              "    height: 32px;\n",
              "    padding: 0 0 0 0;\n",
              "    width: 32px;\n",
              "  }\n",
              "\n",
              "  .colab-df-quickchart:hover {\n",
              "    background-color: #E2EBFA;\n",
              "    box-shadow: 0px 1px 2px rgba(60, 64, 67, 0.3), 0px 1px 3px 1px rgba(60, 64, 67, 0.15);\n",
              "    fill: #174EA6;\n",
              "  }\n",
              "\n",
              "  [theme=dark] .colab-df-quickchart {\n",
              "    background-color: #3B4455;\n",
              "    fill: #D2E3FC;\n",
              "  }\n",
              "\n",
              "  [theme=dark] .colab-df-quickchart:hover {\n",
              "    background-color: #434B5C;\n",
              "    box-shadow: 0px 1px 3px 1px rgba(0, 0, 0, 0.15);\n",
              "    filter: drop-shadow(0px 1px 2px rgba(0, 0, 0, 0.3));\n",
              "    fill: #FFFFFF;\n",
              "  }\n",
              "</style>\n",
              "\n",
              "  <script>\n",
              "    async function quickchart(key) {\n",
              "      const charts = await google.colab.kernel.invokeFunction(\n",
              "          'suggestCharts', [key], {});\n",
              "    }\n",
              "    (() => {\n",
              "      let quickchartButtonEl =\n",
              "        document.querySelector('#df-62b164a8-542b-4c1a-89a3-ff499284f21a button');\n",
              "      quickchartButtonEl.style.display =\n",
              "        google.colab.kernel.accessAllowed ? 'block' : 'none';\n",
              "    })();\n",
              "  </script>\n",
              "</div>\n",
              "    </div>\n",
              "  </div>\n"
            ]
          },
          "metadata": {},
          "execution_count": 441
        }
      ],
      "source": [
        "# Import Data\n",
        "data = pd.read_csv('/content/Electric_Vehicle_Population_Data.csv')\n",
        "data"
      ]
    },
    {
      "cell_type": "code",
      "execution_count": null,
      "metadata": {
        "id": "7vi3rt3bTgj-"
      },
      "outputs": [],
      "source": [
        "data.rename(columns = {'VIN (1-10)': 'VIN',\n",
        "                       'Postal Code': 'Zipcode',\n",
        "                       'Model Year': 'Year',\n",
        "                       'Electric Vehicle Type': 'EVT',\n",
        "                       'Clean Alternative Fuel Vehicle (CAFV) Eligibility': 'CAFV',\n",
        "                       'Electric Range': 'Range',\n",
        "                       'Base MSRP': 'MSRP',\n",
        "                       'Legislative District': 'District',\n",
        "                       'DOL Vehicle ID': 'DOL',\n",
        "                       'Vehicle Location': 'Location',\n",
        "                       'Electric Utility': 'Provider',\n",
        "                       '2020 Census Tract': 'Census2020'}, inplace = True)"
      ]
    },
    {
      "cell_type": "code",
      "execution_count": null,
      "metadata": {
        "colab": {
          "base_uri": "https://localhost:8080/"
        },
        "id": "JqGBk_JnVRBl",
        "outputId": "c6b1fdff-d6d2-4c7f-ac5e-45bc348a62b2"
      },
      "outputs": [
        {
          "output_type": "stream",
          "name": "stdout",
          "text": [
            "<class 'pandas.core.frame.DataFrame'>\n",
            "RangeIndex: 138779 entries, 0 to 138778\n",
            "Data columns (total 17 columns):\n",
            " #   Column      Non-Null Count   Dtype  \n",
            "---  ------      --------------   -----  \n",
            " 0   VIN         138779 non-null  object \n",
            " 1   County      138776 non-null  object \n",
            " 2   City        138776 non-null  object \n",
            " 3   State       138779 non-null  object \n",
            " 4   Zipcode     138776 non-null  float64\n",
            " 5   Year        138779 non-null  int64  \n",
            " 6   Make        138779 non-null  object \n",
            " 7   Model       138493 non-null  object \n",
            " 8   EVT         138779 non-null  object \n",
            " 9   CAFV        138779 non-null  object \n",
            " 10  Range       138779 non-null  int64  \n",
            " 11  MSRP        138779 non-null  int64  \n",
            " 12  District    138464 non-null  float64\n",
            " 13  DOL         138779 non-null  int64  \n",
            " 14  Location    138773 non-null  object \n",
            " 15  Provider    138776 non-null  object \n",
            " 16  Census2020  138776 non-null  float64\n",
            "dtypes: float64(3), int64(4), object(10)\n",
            "memory usage: 18.0+ MB\n"
          ]
        }
      ],
      "source": [
        "data.info()"
      ]
    },
    {
      "cell_type": "markdown",
      "source": [
        "# Data Pre-Processing & Cleaning"
      ],
      "metadata": {
        "id": "YCMmeboaIP1N"
      }
    },
    {
      "cell_type": "markdown",
      "source": [
        "Untuk saat ini dilakukan drop duplikat dan missing values."
      ],
      "metadata": {
        "id": "d8g-Lq5CrR5d"
      }
    },
    {
      "cell_type": "code",
      "execution_count": null,
      "metadata": {
        "colab": {
          "base_uri": "https://localhost:8080/"
        },
        "id": "q9DhFiAecQf2",
        "outputId": "d2fc243d-5e48-4d0e-bef8-6e1085b25ed1"
      },
      "outputs": [
        {
          "output_type": "execute_result",
          "data": {
            "text/plain": [
              "0"
            ]
          },
          "metadata": {},
          "execution_count": 444
        }
      ],
      "source": [
        "data.duplicated().sum()"
      ]
    },
    {
      "cell_type": "code",
      "execution_count": null,
      "metadata": {
        "colab": {
          "base_uri": "https://localhost:8080/"
        },
        "id": "qsPYZNbNcImx",
        "outputId": "9686bb7a-c71c-4eef-ae02-1e9a508c0dde"
      },
      "outputs": [
        {
          "output_type": "execute_result",
          "data": {
            "text/plain": [
              "VIN             0\n",
              "County          3\n",
              "City            3\n",
              "State           0\n",
              "Zipcode         3\n",
              "Year            0\n",
              "Make            0\n",
              "Model         286\n",
              "EVT             0\n",
              "CAFV            0\n",
              "Range           0\n",
              "MSRP            0\n",
              "District      315\n",
              "DOL             0\n",
              "Location        6\n",
              "Provider        3\n",
              "Census2020      3\n",
              "dtype: int64"
            ]
          },
          "metadata": {},
          "execution_count": 445
        }
      ],
      "source": [
        "data.isna().sum()"
      ]
    },
    {
      "cell_type": "code",
      "execution_count": null,
      "metadata": {
        "id": "-glLGRA6jZf1"
      },
      "outputs": [],
      "source": [
        "# Handling missing value\n",
        "data = data.dropna()"
      ]
    },
    {
      "cell_type": "code",
      "execution_count": null,
      "metadata": {
        "colab": {
          "base_uri": "https://localhost:8080/",
          "height": 320
        },
        "id": "Wrr9oaZnlHFC",
        "outputId": "43c3a724-723e-49e2-e4ec-20daa4a0d637"
      },
      "outputs": [
        {
          "output_type": "execute_result",
          "data": {
            "text/plain": [
              "             Zipcode           Year          Range           MSRP  \\\n",
              "count  138175.000000  138175.000000  138175.000000  138175.000000   \n",
              "mean    98258.819685    2019.766441      72.448981    1407.425982   \n",
              "std       302.371730       3.012774      97.809794    9551.756736   \n",
              "min     98001.000000    1997.000000       0.000000       0.000000   \n",
              "25%     98052.000000    2018.000000       0.000000       0.000000   \n",
              "50%     98122.000000    2021.000000      21.000000       0.000000   \n",
              "75%     98370.000000    2022.000000     149.000000       0.000000   \n",
              "max     99403.000000    2024.000000     337.000000  845000.000000   \n",
              "\n",
              "            District           DOL    Census2020  \n",
              "count  138175.000000  1.381750e+05  1.381750e+05  \n",
              "mean       29.427190  2.079269e+08  5.303963e+10  \n",
              "std        14.799921  8.464173e+07  1.617000e+07  \n",
              "min         1.000000  4.385000e+03  5.300195e+10  \n",
              "25%        18.000000  1.643437e+08  5.303301e+10  \n",
              "50%        33.000000  2.085477e+08  5.303303e+10  \n",
              "75%        43.000000  2.342263e+08  5.305307e+10  \n",
              "max        49.000000  4.792548e+08  5.307794e+10  "
            ],
            "text/html": [
              "\n",
              "  <div id=\"df-c7c4ac2b-78b1-4de1-9a28-d4a817a2a12a\" class=\"colab-df-container\">\n",
              "    <div>\n",
              "<style scoped>\n",
              "    .dataframe tbody tr th:only-of-type {\n",
              "        vertical-align: middle;\n",
              "    }\n",
              "\n",
              "    .dataframe tbody tr th {\n",
              "        vertical-align: top;\n",
              "    }\n",
              "\n",
              "    .dataframe thead th {\n",
              "        text-align: right;\n",
              "    }\n",
              "</style>\n",
              "<table border=\"1\" class=\"dataframe\">\n",
              "  <thead>\n",
              "    <tr style=\"text-align: right;\">\n",
              "      <th></th>\n",
              "      <th>Zipcode</th>\n",
              "      <th>Year</th>\n",
              "      <th>Range</th>\n",
              "      <th>MSRP</th>\n",
              "      <th>District</th>\n",
              "      <th>DOL</th>\n",
              "      <th>Census2020</th>\n",
              "    </tr>\n",
              "  </thead>\n",
              "  <tbody>\n",
              "    <tr>\n",
              "      <th>count</th>\n",
              "      <td>138175.000000</td>\n",
              "      <td>138175.000000</td>\n",
              "      <td>138175.000000</td>\n",
              "      <td>138175.000000</td>\n",
              "      <td>138175.000000</td>\n",
              "      <td>1.381750e+05</td>\n",
              "      <td>1.381750e+05</td>\n",
              "    </tr>\n",
              "    <tr>\n",
              "      <th>mean</th>\n",
              "      <td>98258.819685</td>\n",
              "      <td>2019.766441</td>\n",
              "      <td>72.448981</td>\n",
              "      <td>1407.425982</td>\n",
              "      <td>29.427190</td>\n",
              "      <td>2.079269e+08</td>\n",
              "      <td>5.303963e+10</td>\n",
              "    </tr>\n",
              "    <tr>\n",
              "      <th>std</th>\n",
              "      <td>302.371730</td>\n",
              "      <td>3.012774</td>\n",
              "      <td>97.809794</td>\n",
              "      <td>9551.756736</td>\n",
              "      <td>14.799921</td>\n",
              "      <td>8.464173e+07</td>\n",
              "      <td>1.617000e+07</td>\n",
              "    </tr>\n",
              "    <tr>\n",
              "      <th>min</th>\n",
              "      <td>98001.000000</td>\n",
              "      <td>1997.000000</td>\n",
              "      <td>0.000000</td>\n",
              "      <td>0.000000</td>\n",
              "      <td>1.000000</td>\n",
              "      <td>4.385000e+03</td>\n",
              "      <td>5.300195e+10</td>\n",
              "    </tr>\n",
              "    <tr>\n",
              "      <th>25%</th>\n",
              "      <td>98052.000000</td>\n",
              "      <td>2018.000000</td>\n",
              "      <td>0.000000</td>\n",
              "      <td>0.000000</td>\n",
              "      <td>18.000000</td>\n",
              "      <td>1.643437e+08</td>\n",
              "      <td>5.303301e+10</td>\n",
              "    </tr>\n",
              "    <tr>\n",
              "      <th>50%</th>\n",
              "      <td>98122.000000</td>\n",
              "      <td>2021.000000</td>\n",
              "      <td>21.000000</td>\n",
              "      <td>0.000000</td>\n",
              "      <td>33.000000</td>\n",
              "      <td>2.085477e+08</td>\n",
              "      <td>5.303303e+10</td>\n",
              "    </tr>\n",
              "    <tr>\n",
              "      <th>75%</th>\n",
              "      <td>98370.000000</td>\n",
              "      <td>2022.000000</td>\n",
              "      <td>149.000000</td>\n",
              "      <td>0.000000</td>\n",
              "      <td>43.000000</td>\n",
              "      <td>2.342263e+08</td>\n",
              "      <td>5.305307e+10</td>\n",
              "    </tr>\n",
              "    <tr>\n",
              "      <th>max</th>\n",
              "      <td>99403.000000</td>\n",
              "      <td>2024.000000</td>\n",
              "      <td>337.000000</td>\n",
              "      <td>845000.000000</td>\n",
              "      <td>49.000000</td>\n",
              "      <td>4.792548e+08</td>\n",
              "      <td>5.307794e+10</td>\n",
              "    </tr>\n",
              "  </tbody>\n",
              "</table>\n",
              "</div>\n",
              "    <div class=\"colab-df-buttons\">\n",
              "\n",
              "  <div class=\"colab-df-container\">\n",
              "    <button class=\"colab-df-convert\" onclick=\"convertToInteractive('df-c7c4ac2b-78b1-4de1-9a28-d4a817a2a12a')\"\n",
              "            title=\"Convert this dataframe to an interactive table.\"\n",
              "            style=\"display:none;\">\n",
              "\n",
              "  <svg xmlns=\"http://www.w3.org/2000/svg\" height=\"24px\" viewBox=\"0 -960 960 960\">\n",
              "    <path d=\"M120-120v-720h720v720H120Zm60-500h600v-160H180v160Zm220 220h160v-160H400v160Zm0 220h160v-160H400v160ZM180-400h160v-160H180v160Zm440 0h160v-160H620v160ZM180-180h160v-160H180v160Zm440 0h160v-160H620v160Z\"/>\n",
              "  </svg>\n",
              "    </button>\n",
              "\n",
              "  <style>\n",
              "    .colab-df-container {\n",
              "      display:flex;\n",
              "      gap: 12px;\n",
              "    }\n",
              "\n",
              "    .colab-df-convert {\n",
              "      background-color: #E8F0FE;\n",
              "      border: none;\n",
              "      border-radius: 50%;\n",
              "      cursor: pointer;\n",
              "      display: none;\n",
              "      fill: #1967D2;\n",
              "      height: 32px;\n",
              "      padding: 0 0 0 0;\n",
              "      width: 32px;\n",
              "    }\n",
              "\n",
              "    .colab-df-convert:hover {\n",
              "      background-color: #E2EBFA;\n",
              "      box-shadow: 0px 1px 2px rgba(60, 64, 67, 0.3), 0px 1px 3px 1px rgba(60, 64, 67, 0.15);\n",
              "      fill: #174EA6;\n",
              "    }\n",
              "\n",
              "    .colab-df-buttons div {\n",
              "      margin-bottom: 4px;\n",
              "    }\n",
              "\n",
              "    [theme=dark] .colab-df-convert {\n",
              "      background-color: #3B4455;\n",
              "      fill: #D2E3FC;\n",
              "    }\n",
              "\n",
              "    [theme=dark] .colab-df-convert:hover {\n",
              "      background-color: #434B5C;\n",
              "      box-shadow: 0px 1px 3px 1px rgba(0, 0, 0, 0.15);\n",
              "      filter: drop-shadow(0px 1px 2px rgba(0, 0, 0, 0.3));\n",
              "      fill: #FFFFFF;\n",
              "    }\n",
              "  </style>\n",
              "\n",
              "    <script>\n",
              "      const buttonEl =\n",
              "        document.querySelector('#df-c7c4ac2b-78b1-4de1-9a28-d4a817a2a12a button.colab-df-convert');\n",
              "      buttonEl.style.display =\n",
              "        google.colab.kernel.accessAllowed ? 'block' : 'none';\n",
              "\n",
              "      async function convertToInteractive(key) {\n",
              "        const element = document.querySelector('#df-c7c4ac2b-78b1-4de1-9a28-d4a817a2a12a');\n",
              "        const dataTable =\n",
              "          await google.colab.kernel.invokeFunction('convertToInteractive',\n",
              "                                                    [key], {});\n",
              "        if (!dataTable) return;\n",
              "\n",
              "        const docLinkHtml = 'Like what you see? Visit the ' +\n",
              "          '<a target=\"_blank\" href=https://colab.research.google.com/notebooks/data_table.ipynb>data table notebook</a>'\n",
              "          + ' to learn more about interactive tables.';\n",
              "        element.innerHTML = '';\n",
              "        dataTable['output_type'] = 'display_data';\n",
              "        await google.colab.output.renderOutput(dataTable, element);\n",
              "        const docLink = document.createElement('div');\n",
              "        docLink.innerHTML = docLinkHtml;\n",
              "        element.appendChild(docLink);\n",
              "      }\n",
              "    </script>\n",
              "  </div>\n",
              "\n",
              "\n",
              "<div id=\"df-9d460e0a-0dfc-4a36-add8-c4564b3b832a\">\n",
              "  <button class=\"colab-df-quickchart\" onclick=\"quickchart('df-9d460e0a-0dfc-4a36-add8-c4564b3b832a')\"\n",
              "            title=\"Suggest charts.\"\n",
              "            style=\"display:none;\">\n",
              "\n",
              "<svg xmlns=\"http://www.w3.org/2000/svg\" height=\"24px\"viewBox=\"0 0 24 24\"\n",
              "     width=\"24px\">\n",
              "    <g>\n",
              "        <path d=\"M19 3H5c-1.1 0-2 .9-2 2v14c0 1.1.9 2 2 2h14c1.1 0 2-.9 2-2V5c0-1.1-.9-2-2-2zM9 17H7v-7h2v7zm4 0h-2V7h2v10zm4 0h-2v-4h2v4z\"/>\n",
              "    </g>\n",
              "</svg>\n",
              "  </button>\n",
              "\n",
              "<style>\n",
              "  .colab-df-quickchart {\n",
              "    background-color: #E8F0FE;\n",
              "    border: none;\n",
              "    border-radius: 50%;\n",
              "    cursor: pointer;\n",
              "    display: none;\n",
              "    fill: #1967D2;\n",
              "    height: 32px;\n",
              "    padding: 0 0 0 0;\n",
              "    width: 32px;\n",
              "  }\n",
              "\n",
              "  .colab-df-quickchart:hover {\n",
              "    background-color: #E2EBFA;\n",
              "    box-shadow: 0px 1px 2px rgba(60, 64, 67, 0.3), 0px 1px 3px 1px rgba(60, 64, 67, 0.15);\n",
              "    fill: #174EA6;\n",
              "  }\n",
              "\n",
              "  [theme=dark] .colab-df-quickchart {\n",
              "    background-color: #3B4455;\n",
              "    fill: #D2E3FC;\n",
              "  }\n",
              "\n",
              "  [theme=dark] .colab-df-quickchart:hover {\n",
              "    background-color: #434B5C;\n",
              "    box-shadow: 0px 1px 3px 1px rgba(0, 0, 0, 0.15);\n",
              "    filter: drop-shadow(0px 1px 2px rgba(0, 0, 0, 0.3));\n",
              "    fill: #FFFFFF;\n",
              "  }\n",
              "</style>\n",
              "\n",
              "  <script>\n",
              "    async function quickchart(key) {\n",
              "      const charts = await google.colab.kernel.invokeFunction(\n",
              "          'suggestCharts', [key], {});\n",
              "    }\n",
              "    (() => {\n",
              "      let quickchartButtonEl =\n",
              "        document.querySelector('#df-9d460e0a-0dfc-4a36-add8-c4564b3b832a button');\n",
              "      quickchartButtonEl.style.display =\n",
              "        google.colab.kernel.accessAllowed ? 'block' : 'none';\n",
              "    })();\n",
              "  </script>\n",
              "</div>\n",
              "    </div>\n",
              "  </div>\n"
            ]
          },
          "metadata": {},
          "execution_count": 447
        }
      ],
      "source": [
        "data.describe()"
      ]
    },
    {
      "cell_type": "markdown",
      "source": [
        "#EDA & Feature Engineering"
      ],
      "metadata": {
        "id": "glR5EVcl1os_"
      }
    },
    {
      "cell_type": "code",
      "execution_count": null,
      "metadata": {
        "colab": {
          "base_uri": "https://localhost:8080/"
        },
        "id": "_1iEiUfZ4yZF",
        "outputId": "860e764c-841f-4f15-9748-4776fb2e3546"
      },
      "outputs": [
        {
          "output_type": "execute_result",
          "data": {
            "text/plain": [
              "TESLA                   63032\n",
              "NISSAN                  13194\n",
              "CHEVROLET               11527\n",
              "FORD                     7046\n",
              "BMW                      6014\n",
              "KIA                      5663\n",
              "TOYOTA                   4923\n",
              "VOLKSWAGEN               3704\n",
              "VOLVO                    3036\n",
              "JEEP                     2938\n",
              "AUDI                     2787\n",
              "HYUNDAI                  2625\n",
              "CHRYSLER                 2381\n",
              "RIVIAN                   1932\n",
              "PORSCHE                   980\n",
              "MERCEDES-BENZ             862\n",
              "FIAT                      818\n",
              "HONDA                     799\n",
              "MITSUBISHI                763\n",
              "MINI                      758\n",
              "POLESTAR                  727\n",
              "SUBARU                    368\n",
              "SMART                     276\n",
              "JAGUAR                    222\n",
              "LINCOLN                   220\n",
              "LUCID                     160\n",
              "CADILLAC                  126\n",
              "LEXUS                      88\n",
              "GENESIS                    77\n",
              "MAZDA                      53\n",
              "LAND ROVER                 43\n",
              "FISKER                     15\n",
              "AZURE DYNAMICS              8\n",
              "TH!NK                       4\n",
              "BENTLEY                     3\n",
              "WHEEGO ELECTRIC CARS        3\n",
              "Name: Make, dtype: int64"
            ]
          },
          "metadata": {},
          "execution_count": 448
        }
      ],
      "source": [
        "data.Make.value_counts()"
      ]
    },
    {
      "cell_type": "code",
      "source": [
        "# Jumlah pembelian mobil setiap tahunnya\n",
        "data = data.groupby(['Year', 'Make']).size().reset_index(name='Count')"
      ],
      "metadata": {
        "id": "2UQaxPDEdggs"
      },
      "execution_count": null,
      "outputs": []
    },
    {
      "cell_type": "markdown",
      "source": [
        "Dari info di atas\n",
        "Top Three :\n",
        "\n",
        "1. TESLA                   63032\n",
        "2. NISSAN                  13194\n",
        "3. CHEVROLET               11527\n",
        "\n",
        "Akan dilakukan eksplorasi data untuk top three variabel `Make` perusahaan pembuat kendaraan listrik terbanyak yaitu TESLA, NISSAN, dan CHEVROLET."
      ],
      "metadata": {
        "id": "X8srCjICr7Rp"
      }
    },
    {
      "cell_type": "code",
      "source": [
        "# Keep only Tesla, Nissan, and Chevrolet\n",
        "data = data[data['Make'].isin(['TESLA', 'NISSAN', 'CHEVROLET'])]"
      ],
      "metadata": {
        "id": "Tn9o5gMdTA44"
      },
      "execution_count": null,
      "outputs": []
    },
    {
      "cell_type": "code",
      "source": [
        "# Membuat pivot table dengan 'Make' sebagai indeks atas, 'Year' sebagai kolom, dan 'Count' sebagai nilai\n",
        "pivot_table = data.pivot(index='Make', columns='Year', values='Count').fillna(0).astype(int)\n",
        "pivot_table"
      ],
      "metadata": {
        "colab": {
          "base_uri": "https://localhost:8080/",
          "height": 194
        },
        "id": "6BJlFl32SZUK",
        "outputId": "47a85087-cdc2-4f83-ac18-1c4b47634825"
      },
      "execution_count": null,
      "outputs": [
        {
          "output_type": "execute_result",
          "data": {
            "text/plain": [
              "Year       1997  2008  2010  2011  2012  2013  2014  2015  2016  2017  2018  \\\n",
              "Make                                                                          \n",
              "CHEVROLET     1     0     0    76   474   798   713   470   301  2738  1152   \n",
              "NISSAN        0     0     0   694   589  1937   640  1840  1172   936  1226   \n",
              "TESLA         0    18    21     7   128   771   653  1071  1617  1635  8027   \n",
              "\n",
              "Year       2019  2020   2021   2022   2023  \n",
              "Make                                        \n",
              "CHEVROLET  1007   957    351    914   1575  \n",
              "NISSAN     1391   642    473    940    714  \n",
              "TESLA      4642  6938  10872  13879  12753  "
            ],
            "text/html": [
              "\n",
              "  <div id=\"df-9de306e7-d629-45d1-81b1-bc0d74854131\" class=\"colab-df-container\">\n",
              "    <div>\n",
              "<style scoped>\n",
              "    .dataframe tbody tr th:only-of-type {\n",
              "        vertical-align: middle;\n",
              "    }\n",
              "\n",
              "    .dataframe tbody tr th {\n",
              "        vertical-align: top;\n",
              "    }\n",
              "\n",
              "    .dataframe thead th {\n",
              "        text-align: right;\n",
              "    }\n",
              "</style>\n",
              "<table border=\"1\" class=\"dataframe\">\n",
              "  <thead>\n",
              "    <tr style=\"text-align: right;\">\n",
              "      <th>Year</th>\n",
              "      <th>1997</th>\n",
              "      <th>2008</th>\n",
              "      <th>2010</th>\n",
              "      <th>2011</th>\n",
              "      <th>2012</th>\n",
              "      <th>2013</th>\n",
              "      <th>2014</th>\n",
              "      <th>2015</th>\n",
              "      <th>2016</th>\n",
              "      <th>2017</th>\n",
              "      <th>2018</th>\n",
              "      <th>2019</th>\n",
              "      <th>2020</th>\n",
              "      <th>2021</th>\n",
              "      <th>2022</th>\n",
              "      <th>2023</th>\n",
              "    </tr>\n",
              "    <tr>\n",
              "      <th>Make</th>\n",
              "      <th></th>\n",
              "      <th></th>\n",
              "      <th></th>\n",
              "      <th></th>\n",
              "      <th></th>\n",
              "      <th></th>\n",
              "      <th></th>\n",
              "      <th></th>\n",
              "      <th></th>\n",
              "      <th></th>\n",
              "      <th></th>\n",
              "      <th></th>\n",
              "      <th></th>\n",
              "      <th></th>\n",
              "      <th></th>\n",
              "      <th></th>\n",
              "    </tr>\n",
              "  </thead>\n",
              "  <tbody>\n",
              "    <tr>\n",
              "      <th>CHEVROLET</th>\n",
              "      <td>1</td>\n",
              "      <td>0</td>\n",
              "      <td>0</td>\n",
              "      <td>76</td>\n",
              "      <td>474</td>\n",
              "      <td>798</td>\n",
              "      <td>713</td>\n",
              "      <td>470</td>\n",
              "      <td>301</td>\n",
              "      <td>2738</td>\n",
              "      <td>1152</td>\n",
              "      <td>1007</td>\n",
              "      <td>957</td>\n",
              "      <td>351</td>\n",
              "      <td>914</td>\n",
              "      <td>1575</td>\n",
              "    </tr>\n",
              "    <tr>\n",
              "      <th>NISSAN</th>\n",
              "      <td>0</td>\n",
              "      <td>0</td>\n",
              "      <td>0</td>\n",
              "      <td>694</td>\n",
              "      <td>589</td>\n",
              "      <td>1937</td>\n",
              "      <td>640</td>\n",
              "      <td>1840</td>\n",
              "      <td>1172</td>\n",
              "      <td>936</td>\n",
              "      <td>1226</td>\n",
              "      <td>1391</td>\n",
              "      <td>642</td>\n",
              "      <td>473</td>\n",
              "      <td>940</td>\n",
              "      <td>714</td>\n",
              "    </tr>\n",
              "    <tr>\n",
              "      <th>TESLA</th>\n",
              "      <td>0</td>\n",
              "      <td>18</td>\n",
              "      <td>21</td>\n",
              "      <td>7</td>\n",
              "      <td>128</td>\n",
              "      <td>771</td>\n",
              "      <td>653</td>\n",
              "      <td>1071</td>\n",
              "      <td>1617</td>\n",
              "      <td>1635</td>\n",
              "      <td>8027</td>\n",
              "      <td>4642</td>\n",
              "      <td>6938</td>\n",
              "      <td>10872</td>\n",
              "      <td>13879</td>\n",
              "      <td>12753</td>\n",
              "    </tr>\n",
              "  </tbody>\n",
              "</table>\n",
              "</div>\n",
              "    <div class=\"colab-df-buttons\">\n",
              "\n",
              "  <div class=\"colab-df-container\">\n",
              "    <button class=\"colab-df-convert\" onclick=\"convertToInteractive('df-9de306e7-d629-45d1-81b1-bc0d74854131')\"\n",
              "            title=\"Convert this dataframe to an interactive table.\"\n",
              "            style=\"display:none;\">\n",
              "\n",
              "  <svg xmlns=\"http://www.w3.org/2000/svg\" height=\"24px\" viewBox=\"0 -960 960 960\">\n",
              "    <path d=\"M120-120v-720h720v720H120Zm60-500h600v-160H180v160Zm220 220h160v-160H400v160Zm0 220h160v-160H400v160ZM180-400h160v-160H180v160Zm440 0h160v-160H620v160ZM180-180h160v-160H180v160Zm440 0h160v-160H620v160Z\"/>\n",
              "  </svg>\n",
              "    </button>\n",
              "\n",
              "  <style>\n",
              "    .colab-df-container {\n",
              "      display:flex;\n",
              "      gap: 12px;\n",
              "    }\n",
              "\n",
              "    .colab-df-convert {\n",
              "      background-color: #E8F0FE;\n",
              "      border: none;\n",
              "      border-radius: 50%;\n",
              "      cursor: pointer;\n",
              "      display: none;\n",
              "      fill: #1967D2;\n",
              "      height: 32px;\n",
              "      padding: 0 0 0 0;\n",
              "      width: 32px;\n",
              "    }\n",
              "\n",
              "    .colab-df-convert:hover {\n",
              "      background-color: #E2EBFA;\n",
              "      box-shadow: 0px 1px 2px rgba(60, 64, 67, 0.3), 0px 1px 3px 1px rgba(60, 64, 67, 0.15);\n",
              "      fill: #174EA6;\n",
              "    }\n",
              "\n",
              "    .colab-df-buttons div {\n",
              "      margin-bottom: 4px;\n",
              "    }\n",
              "\n",
              "    [theme=dark] .colab-df-convert {\n",
              "      background-color: #3B4455;\n",
              "      fill: #D2E3FC;\n",
              "    }\n",
              "\n",
              "    [theme=dark] .colab-df-convert:hover {\n",
              "      background-color: #434B5C;\n",
              "      box-shadow: 0px 1px 3px 1px rgba(0, 0, 0, 0.15);\n",
              "      filter: drop-shadow(0px 1px 2px rgba(0, 0, 0, 0.3));\n",
              "      fill: #FFFFFF;\n",
              "    }\n",
              "  </style>\n",
              "\n",
              "    <script>\n",
              "      const buttonEl =\n",
              "        document.querySelector('#df-9de306e7-d629-45d1-81b1-bc0d74854131 button.colab-df-convert');\n",
              "      buttonEl.style.display =\n",
              "        google.colab.kernel.accessAllowed ? 'block' : 'none';\n",
              "\n",
              "      async function convertToInteractive(key) {\n",
              "        const element = document.querySelector('#df-9de306e7-d629-45d1-81b1-bc0d74854131');\n",
              "        const dataTable =\n",
              "          await google.colab.kernel.invokeFunction('convertToInteractive',\n",
              "                                                    [key], {});\n",
              "        if (!dataTable) return;\n",
              "\n",
              "        const docLinkHtml = 'Like what you see? Visit the ' +\n",
              "          '<a target=\"_blank\" href=https://colab.research.google.com/notebooks/data_table.ipynb>data table notebook</a>'\n",
              "          + ' to learn more about interactive tables.';\n",
              "        element.innerHTML = '';\n",
              "        dataTable['output_type'] = 'display_data';\n",
              "        await google.colab.output.renderOutput(dataTable, element);\n",
              "        const docLink = document.createElement('div');\n",
              "        docLink.innerHTML = docLinkHtml;\n",
              "        element.appendChild(docLink);\n",
              "      }\n",
              "    </script>\n",
              "  </div>\n",
              "\n",
              "\n",
              "<div id=\"df-b4f925c0-453a-4d34-a529-fca5d9d2c511\">\n",
              "  <button class=\"colab-df-quickchart\" onclick=\"quickchart('df-b4f925c0-453a-4d34-a529-fca5d9d2c511')\"\n",
              "            title=\"Suggest charts.\"\n",
              "            style=\"display:none;\">\n",
              "\n",
              "<svg xmlns=\"http://www.w3.org/2000/svg\" height=\"24px\"viewBox=\"0 0 24 24\"\n",
              "     width=\"24px\">\n",
              "    <g>\n",
              "        <path d=\"M19 3H5c-1.1 0-2 .9-2 2v14c0 1.1.9 2 2 2h14c1.1 0 2-.9 2-2V5c0-1.1-.9-2-2-2zM9 17H7v-7h2v7zm4 0h-2V7h2v10zm4 0h-2v-4h2v4z\"/>\n",
              "    </g>\n",
              "</svg>\n",
              "  </button>\n",
              "\n",
              "<style>\n",
              "  .colab-df-quickchart {\n",
              "    background-color: #E8F0FE;\n",
              "    border: none;\n",
              "    border-radius: 50%;\n",
              "    cursor: pointer;\n",
              "    display: none;\n",
              "    fill: #1967D2;\n",
              "    height: 32px;\n",
              "    padding: 0 0 0 0;\n",
              "    width: 32px;\n",
              "  }\n",
              "\n",
              "  .colab-df-quickchart:hover {\n",
              "    background-color: #E2EBFA;\n",
              "    box-shadow: 0px 1px 2px rgba(60, 64, 67, 0.3), 0px 1px 3px 1px rgba(60, 64, 67, 0.15);\n",
              "    fill: #174EA6;\n",
              "  }\n",
              "\n",
              "  [theme=dark] .colab-df-quickchart {\n",
              "    background-color: #3B4455;\n",
              "    fill: #D2E3FC;\n",
              "  }\n",
              "\n",
              "  [theme=dark] .colab-df-quickchart:hover {\n",
              "    background-color: #434B5C;\n",
              "    box-shadow: 0px 1px 3px 1px rgba(0, 0, 0, 0.15);\n",
              "    filter: drop-shadow(0px 1px 2px rgba(0, 0, 0, 0.3));\n",
              "    fill: #FFFFFF;\n",
              "  }\n",
              "</style>\n",
              "\n",
              "  <script>\n",
              "    async function quickchart(key) {\n",
              "      const charts = await google.colab.kernel.invokeFunction(\n",
              "          'suggestCharts', [key], {});\n",
              "    }\n",
              "    (() => {\n",
              "      let quickchartButtonEl =\n",
              "        document.querySelector('#df-b4f925c0-453a-4d34-a529-fca5d9d2c511 button');\n",
              "      quickchartButtonEl.style.display =\n",
              "        google.colab.kernel.accessAllowed ? 'block' : 'none';\n",
              "    })();\n",
              "  </script>\n",
              "</div>\n",
              "    </div>\n",
              "  </div>\n"
            ]
          },
          "metadata": {},
          "execution_count": 451
        }
      ]
    },
    {
      "cell_type": "code",
      "source": [
        "# Drop row tahun 1997, 2008, 2010, 2023\n",
        "data = data[~data['Year'].isin([1997, 2008, 2010, 2023])]\n",
        "data"
      ],
      "metadata": {
        "colab": {
          "base_uri": "https://localhost:8080/",
          "height": 1000
        },
        "id": "JwB3a9B0S2I1",
        "outputId": "90571091-c065-4b6c-c268-b9d46eacf57d"
      },
      "execution_count": null,
      "outputs": [
        {
          "output_type": "execute_result",
          "data": {
            "text/plain": [
              "     Year       Make  Count\n",
              "10   2011  CHEVROLET     76\n",
              "11   2011     NISSAN    694\n",
              "12   2011      TESLA      7\n",
              "15   2012  CHEVROLET    474\n",
              "19   2012     NISSAN    589\n",
              "20   2012      TESLA    128\n",
              "22   2013  CHEVROLET    798\n",
              "25   2013     NISSAN   1937\n",
              "27   2013      TESLA    771\n",
              "31   2014  CHEVROLET    713\n",
              "37   2014     NISSAN    640\n",
              "40   2014      TESLA    653\n",
              "43   2015  CHEVROLET    470\n",
              "48   2015     NISSAN   1840\n",
              "51   2015      TESLA   1071\n",
              "57   2016  CHEVROLET    301\n",
              "64   2016     NISSAN   1172\n",
              "67   2016      TESLA   1617\n",
              "73   2017  CHEVROLET   2738\n",
              "81   2017     NISSAN    936\n",
              "84   2017      TESLA   1635\n",
              "91   2018  CHEVROLET   1152\n",
              "101  2018     NISSAN   1226\n",
              "104  2018      TESLA   8027\n",
              "110  2019  CHEVROLET   1007\n",
              "121  2019     NISSAN   1391\n",
              "125  2019      TESLA   4642\n",
              "132  2020  CHEVROLET    957\n",
              "144  2020     NISSAN    642\n",
              "146  2020      TESLA   6938\n",
              "152  2021  CHEVROLET    351\n",
              "164  2021     NISSAN    473\n",
              "167  2021      TESLA  10872\n",
              "174  2022  CHEVROLET    914\n",
              "187  2022     NISSAN    940\n",
              "191  2022      TESLA  13879"
            ],
            "text/html": [
              "\n",
              "  <div id=\"df-8c4173b3-2264-4cc8-bfcc-7630503525dc\" class=\"colab-df-container\">\n",
              "    <div>\n",
              "<style scoped>\n",
              "    .dataframe tbody tr th:only-of-type {\n",
              "        vertical-align: middle;\n",
              "    }\n",
              "\n",
              "    .dataframe tbody tr th {\n",
              "        vertical-align: top;\n",
              "    }\n",
              "\n",
              "    .dataframe thead th {\n",
              "        text-align: right;\n",
              "    }\n",
              "</style>\n",
              "<table border=\"1\" class=\"dataframe\">\n",
              "  <thead>\n",
              "    <tr style=\"text-align: right;\">\n",
              "      <th></th>\n",
              "      <th>Year</th>\n",
              "      <th>Make</th>\n",
              "      <th>Count</th>\n",
              "    </tr>\n",
              "  </thead>\n",
              "  <tbody>\n",
              "    <tr>\n",
              "      <th>10</th>\n",
              "      <td>2011</td>\n",
              "      <td>CHEVROLET</td>\n",
              "      <td>76</td>\n",
              "    </tr>\n",
              "    <tr>\n",
              "      <th>11</th>\n",
              "      <td>2011</td>\n",
              "      <td>NISSAN</td>\n",
              "      <td>694</td>\n",
              "    </tr>\n",
              "    <tr>\n",
              "      <th>12</th>\n",
              "      <td>2011</td>\n",
              "      <td>TESLA</td>\n",
              "      <td>7</td>\n",
              "    </tr>\n",
              "    <tr>\n",
              "      <th>15</th>\n",
              "      <td>2012</td>\n",
              "      <td>CHEVROLET</td>\n",
              "      <td>474</td>\n",
              "    </tr>\n",
              "    <tr>\n",
              "      <th>19</th>\n",
              "      <td>2012</td>\n",
              "      <td>NISSAN</td>\n",
              "      <td>589</td>\n",
              "    </tr>\n",
              "    <tr>\n",
              "      <th>20</th>\n",
              "      <td>2012</td>\n",
              "      <td>TESLA</td>\n",
              "      <td>128</td>\n",
              "    </tr>\n",
              "    <tr>\n",
              "      <th>22</th>\n",
              "      <td>2013</td>\n",
              "      <td>CHEVROLET</td>\n",
              "      <td>798</td>\n",
              "    </tr>\n",
              "    <tr>\n",
              "      <th>25</th>\n",
              "      <td>2013</td>\n",
              "      <td>NISSAN</td>\n",
              "      <td>1937</td>\n",
              "    </tr>\n",
              "    <tr>\n",
              "      <th>27</th>\n",
              "      <td>2013</td>\n",
              "      <td>TESLA</td>\n",
              "      <td>771</td>\n",
              "    </tr>\n",
              "    <tr>\n",
              "      <th>31</th>\n",
              "      <td>2014</td>\n",
              "      <td>CHEVROLET</td>\n",
              "      <td>713</td>\n",
              "    </tr>\n",
              "    <tr>\n",
              "      <th>37</th>\n",
              "      <td>2014</td>\n",
              "      <td>NISSAN</td>\n",
              "      <td>640</td>\n",
              "    </tr>\n",
              "    <tr>\n",
              "      <th>40</th>\n",
              "      <td>2014</td>\n",
              "      <td>TESLA</td>\n",
              "      <td>653</td>\n",
              "    </tr>\n",
              "    <tr>\n",
              "      <th>43</th>\n",
              "      <td>2015</td>\n",
              "      <td>CHEVROLET</td>\n",
              "      <td>470</td>\n",
              "    </tr>\n",
              "    <tr>\n",
              "      <th>48</th>\n",
              "      <td>2015</td>\n",
              "      <td>NISSAN</td>\n",
              "      <td>1840</td>\n",
              "    </tr>\n",
              "    <tr>\n",
              "      <th>51</th>\n",
              "      <td>2015</td>\n",
              "      <td>TESLA</td>\n",
              "      <td>1071</td>\n",
              "    </tr>\n",
              "    <tr>\n",
              "      <th>57</th>\n",
              "      <td>2016</td>\n",
              "      <td>CHEVROLET</td>\n",
              "      <td>301</td>\n",
              "    </tr>\n",
              "    <tr>\n",
              "      <th>64</th>\n",
              "      <td>2016</td>\n",
              "      <td>NISSAN</td>\n",
              "      <td>1172</td>\n",
              "    </tr>\n",
              "    <tr>\n",
              "      <th>67</th>\n",
              "      <td>2016</td>\n",
              "      <td>TESLA</td>\n",
              "      <td>1617</td>\n",
              "    </tr>\n",
              "    <tr>\n",
              "      <th>73</th>\n",
              "      <td>2017</td>\n",
              "      <td>CHEVROLET</td>\n",
              "      <td>2738</td>\n",
              "    </tr>\n",
              "    <tr>\n",
              "      <th>81</th>\n",
              "      <td>2017</td>\n",
              "      <td>NISSAN</td>\n",
              "      <td>936</td>\n",
              "    </tr>\n",
              "    <tr>\n",
              "      <th>84</th>\n",
              "      <td>2017</td>\n",
              "      <td>TESLA</td>\n",
              "      <td>1635</td>\n",
              "    </tr>\n",
              "    <tr>\n",
              "      <th>91</th>\n",
              "      <td>2018</td>\n",
              "      <td>CHEVROLET</td>\n",
              "      <td>1152</td>\n",
              "    </tr>\n",
              "    <tr>\n",
              "      <th>101</th>\n",
              "      <td>2018</td>\n",
              "      <td>NISSAN</td>\n",
              "      <td>1226</td>\n",
              "    </tr>\n",
              "    <tr>\n",
              "      <th>104</th>\n",
              "      <td>2018</td>\n",
              "      <td>TESLA</td>\n",
              "      <td>8027</td>\n",
              "    </tr>\n",
              "    <tr>\n",
              "      <th>110</th>\n",
              "      <td>2019</td>\n",
              "      <td>CHEVROLET</td>\n",
              "      <td>1007</td>\n",
              "    </tr>\n",
              "    <tr>\n",
              "      <th>121</th>\n",
              "      <td>2019</td>\n",
              "      <td>NISSAN</td>\n",
              "      <td>1391</td>\n",
              "    </tr>\n",
              "    <tr>\n",
              "      <th>125</th>\n",
              "      <td>2019</td>\n",
              "      <td>TESLA</td>\n",
              "      <td>4642</td>\n",
              "    </tr>\n",
              "    <tr>\n",
              "      <th>132</th>\n",
              "      <td>2020</td>\n",
              "      <td>CHEVROLET</td>\n",
              "      <td>957</td>\n",
              "    </tr>\n",
              "    <tr>\n",
              "      <th>144</th>\n",
              "      <td>2020</td>\n",
              "      <td>NISSAN</td>\n",
              "      <td>642</td>\n",
              "    </tr>\n",
              "    <tr>\n",
              "      <th>146</th>\n",
              "      <td>2020</td>\n",
              "      <td>TESLA</td>\n",
              "      <td>6938</td>\n",
              "    </tr>\n",
              "    <tr>\n",
              "      <th>152</th>\n",
              "      <td>2021</td>\n",
              "      <td>CHEVROLET</td>\n",
              "      <td>351</td>\n",
              "    </tr>\n",
              "    <tr>\n",
              "      <th>164</th>\n",
              "      <td>2021</td>\n",
              "      <td>NISSAN</td>\n",
              "      <td>473</td>\n",
              "    </tr>\n",
              "    <tr>\n",
              "      <th>167</th>\n",
              "      <td>2021</td>\n",
              "      <td>TESLA</td>\n",
              "      <td>10872</td>\n",
              "    </tr>\n",
              "    <tr>\n",
              "      <th>174</th>\n",
              "      <td>2022</td>\n",
              "      <td>CHEVROLET</td>\n",
              "      <td>914</td>\n",
              "    </tr>\n",
              "    <tr>\n",
              "      <th>187</th>\n",
              "      <td>2022</td>\n",
              "      <td>NISSAN</td>\n",
              "      <td>940</td>\n",
              "    </tr>\n",
              "    <tr>\n",
              "      <th>191</th>\n",
              "      <td>2022</td>\n",
              "      <td>TESLA</td>\n",
              "      <td>13879</td>\n",
              "    </tr>\n",
              "  </tbody>\n",
              "</table>\n",
              "</div>\n",
              "    <div class=\"colab-df-buttons\">\n",
              "\n",
              "  <div class=\"colab-df-container\">\n",
              "    <button class=\"colab-df-convert\" onclick=\"convertToInteractive('df-8c4173b3-2264-4cc8-bfcc-7630503525dc')\"\n",
              "            title=\"Convert this dataframe to an interactive table.\"\n",
              "            style=\"display:none;\">\n",
              "\n",
              "  <svg xmlns=\"http://www.w3.org/2000/svg\" height=\"24px\" viewBox=\"0 -960 960 960\">\n",
              "    <path d=\"M120-120v-720h720v720H120Zm60-500h600v-160H180v160Zm220 220h160v-160H400v160Zm0 220h160v-160H400v160ZM180-400h160v-160H180v160Zm440 0h160v-160H620v160ZM180-180h160v-160H180v160Zm440 0h160v-160H620v160Z\"/>\n",
              "  </svg>\n",
              "    </button>\n",
              "\n",
              "  <style>\n",
              "    .colab-df-container {\n",
              "      display:flex;\n",
              "      gap: 12px;\n",
              "    }\n",
              "\n",
              "    .colab-df-convert {\n",
              "      background-color: #E8F0FE;\n",
              "      border: none;\n",
              "      border-radius: 50%;\n",
              "      cursor: pointer;\n",
              "      display: none;\n",
              "      fill: #1967D2;\n",
              "      height: 32px;\n",
              "      padding: 0 0 0 0;\n",
              "      width: 32px;\n",
              "    }\n",
              "\n",
              "    .colab-df-convert:hover {\n",
              "      background-color: #E2EBFA;\n",
              "      box-shadow: 0px 1px 2px rgba(60, 64, 67, 0.3), 0px 1px 3px 1px rgba(60, 64, 67, 0.15);\n",
              "      fill: #174EA6;\n",
              "    }\n",
              "\n",
              "    .colab-df-buttons div {\n",
              "      margin-bottom: 4px;\n",
              "    }\n",
              "\n",
              "    [theme=dark] .colab-df-convert {\n",
              "      background-color: #3B4455;\n",
              "      fill: #D2E3FC;\n",
              "    }\n",
              "\n",
              "    [theme=dark] .colab-df-convert:hover {\n",
              "      background-color: #434B5C;\n",
              "      box-shadow: 0px 1px 3px 1px rgba(0, 0, 0, 0.15);\n",
              "      filter: drop-shadow(0px 1px 2px rgba(0, 0, 0, 0.3));\n",
              "      fill: #FFFFFF;\n",
              "    }\n",
              "  </style>\n",
              "\n",
              "    <script>\n",
              "      const buttonEl =\n",
              "        document.querySelector('#df-8c4173b3-2264-4cc8-bfcc-7630503525dc button.colab-df-convert');\n",
              "      buttonEl.style.display =\n",
              "        google.colab.kernel.accessAllowed ? 'block' : 'none';\n",
              "\n",
              "      async function convertToInteractive(key) {\n",
              "        const element = document.querySelector('#df-8c4173b3-2264-4cc8-bfcc-7630503525dc');\n",
              "        const dataTable =\n",
              "          await google.colab.kernel.invokeFunction('convertToInteractive',\n",
              "                                                    [key], {});\n",
              "        if (!dataTable) return;\n",
              "\n",
              "        const docLinkHtml = 'Like what you see? Visit the ' +\n",
              "          '<a target=\"_blank\" href=https://colab.research.google.com/notebooks/data_table.ipynb>data table notebook</a>'\n",
              "          + ' to learn more about interactive tables.';\n",
              "        element.innerHTML = '';\n",
              "        dataTable['output_type'] = 'display_data';\n",
              "        await google.colab.output.renderOutput(dataTable, element);\n",
              "        const docLink = document.createElement('div');\n",
              "        docLink.innerHTML = docLinkHtml;\n",
              "        element.appendChild(docLink);\n",
              "      }\n",
              "    </script>\n",
              "  </div>\n",
              "\n",
              "\n",
              "<div id=\"df-41acde76-0c1f-488d-9bb9-95a7e492cc89\">\n",
              "  <button class=\"colab-df-quickchart\" onclick=\"quickchart('df-41acde76-0c1f-488d-9bb9-95a7e492cc89')\"\n",
              "            title=\"Suggest charts.\"\n",
              "            style=\"display:none;\">\n",
              "\n",
              "<svg xmlns=\"http://www.w3.org/2000/svg\" height=\"24px\"viewBox=\"0 0 24 24\"\n",
              "     width=\"24px\">\n",
              "    <g>\n",
              "        <path d=\"M19 3H5c-1.1 0-2 .9-2 2v14c0 1.1.9 2 2 2h14c1.1 0 2-.9 2-2V5c0-1.1-.9-2-2-2zM9 17H7v-7h2v7zm4 0h-2V7h2v10zm4 0h-2v-4h2v4z\"/>\n",
              "    </g>\n",
              "</svg>\n",
              "  </button>\n",
              "\n",
              "<style>\n",
              "  .colab-df-quickchart {\n",
              "    background-color: #E8F0FE;\n",
              "    border: none;\n",
              "    border-radius: 50%;\n",
              "    cursor: pointer;\n",
              "    display: none;\n",
              "    fill: #1967D2;\n",
              "    height: 32px;\n",
              "    padding: 0 0 0 0;\n",
              "    width: 32px;\n",
              "  }\n",
              "\n",
              "  .colab-df-quickchart:hover {\n",
              "    background-color: #E2EBFA;\n",
              "    box-shadow: 0px 1px 2px rgba(60, 64, 67, 0.3), 0px 1px 3px 1px rgba(60, 64, 67, 0.15);\n",
              "    fill: #174EA6;\n",
              "  }\n",
              "\n",
              "  [theme=dark] .colab-df-quickchart {\n",
              "    background-color: #3B4455;\n",
              "    fill: #D2E3FC;\n",
              "  }\n",
              "\n",
              "  [theme=dark] .colab-df-quickchart:hover {\n",
              "    background-color: #434B5C;\n",
              "    box-shadow: 0px 1px 3px 1px rgba(0, 0, 0, 0.15);\n",
              "    filter: drop-shadow(0px 1px 2px rgba(0, 0, 0, 0.3));\n",
              "    fill: #FFFFFF;\n",
              "  }\n",
              "</style>\n",
              "\n",
              "  <script>\n",
              "    async function quickchart(key) {\n",
              "      const charts = await google.colab.kernel.invokeFunction(\n",
              "          'suggestCharts', [key], {});\n",
              "    }\n",
              "    (() => {\n",
              "      let quickchartButtonEl =\n",
              "        document.querySelector('#df-41acde76-0c1f-488d-9bb9-95a7e492cc89 button');\n",
              "      quickchartButtonEl.style.display =\n",
              "        google.colab.kernel.accessAllowed ? 'block' : 'none';\n",
              "    })();\n",
              "  </script>\n",
              "</div>\n",
              "    </div>\n",
              "  </div>\n"
            ]
          },
          "metadata": {},
          "execution_count": 452
        }
      ]
    },
    {
      "cell_type": "code",
      "source": [
        "plt.figure(figsize=(10, 6))\n",
        "for make in ['TESLA', 'NISSAN', 'CHEVROLET']:\n",
        "    make_data = data[data['Make'] == make]\n",
        "    plt.plot(make_data['Year'], make_data['Count'], label=make)\n",
        "\n",
        "plt.title('Jumlah Produksi Tesla, Nissan, dan Chevrolet per Tahun')\n",
        "plt.xlabel('Tahun')\n",
        "plt.ylabel('Jumlah Produksi')\n",
        "plt.legend()\n",
        "plt.grid(True)\n",
        "plt.show()"
      ],
      "metadata": {
        "colab": {
          "base_uri": "https://localhost:8080/",
          "height": 558
        },
        "id": "IOkk7IaqeLCJ",
        "outputId": "f7ed749d-aba9-49d6-8690-7ad10d93cf52"
      },
      "execution_count": null,
      "outputs": [
        {
          "output_type": "display_data",
          "data": {
            "text/plain": [
              "<Figure size 1000x600 with 1 Axes>"
            ],
            "image/png": "[encoded data removed]"
          },
          "metadata": {}
        }
      ]
    },
    {
      "cell_type": "code",
      "source": [
        "data_tesla = data.loc[data['Make'] == 'TESLA']\n",
        "data_tesla"
      ],
      "metadata": {
        "colab": {
          "base_uri": "https://localhost:8080/",
          "height": 425
        },
        "id": "RU8pgSXRiBfq",
        "outputId": "55b6d8d9-4a21-4904-addd-db07df03bc7c"
      },
      "execution_count": null,
      "outputs": [
        {
          "output_type": "execute_result",
          "data": {
            "text/plain": [
              "     Year   Make  Count\n",
              "12   2011  TESLA      7\n",
              "20   2012  TESLA    128\n",
              "27   2013  TESLA    771\n",
              "40   2014  TESLA    653\n",
              "51   2015  TESLA   1071\n",
              "67   2016  TESLA   1617\n",
              "84   2017  TESLA   1635\n",
              "104  2018  TESLA   8027\n",
              "125  2019  TESLA   4642\n",
              "146  2020  TESLA   6938\n",
              "167  2021  TESLA  10872\n",
              "191  2022  TESLA  13879"
            ],
            "text/html": [
              "\n",
              "  <div id=\"df-bf115770-1886-4c15-adeb-c720c24f9123\" class=\"colab-df-container\">\n",
              "    <div>\n",
              "<style scoped>\n",
              "    .dataframe tbody tr th:only-of-type {\n",
              "        vertical-align: middle;\n",
              "    }\n",
              "\n",
              "    .dataframe tbody tr th {\n",
              "        vertical-align: top;\n",
              "    }\n",
              "\n",
              "    .dataframe thead th {\n",
              "        text-align: right;\n",
              "    }\n",
              "</style>\n",
              "<table border=\"1\" class=\"dataframe\">\n",
              "  <thead>\n",
              "    <tr style=\"text-align: right;\">\n",
              "      <th></th>\n",
              "      <th>Year</th>\n",
              "      <th>Make</th>\n",
              "      <th>Count</th>\n",
              "    </tr>\n",
              "  </thead>\n",
              "  <tbody>\n",
              "    <tr>\n",
              "      <th>12</th>\n",
              "      <td>2011</td>\n",
              "      <td>TESLA</td>\n",
              "      <td>7</td>\n",
              "    </tr>\n",
              "    <tr>\n",
              "      <th>20</th>\n",
              "      <td>2012</td>\n",
              "      <td>TESLA</td>\n",
              "      <td>128</td>\n",
              "    </tr>\n",
              "    <tr>\n",
              "      <th>27</th>\n",
              "      <td>2013</td>\n",
              "      <td>TESLA</td>\n",
              "      <td>771</td>\n",
              "    </tr>\n",
              "    <tr>\n",
              "      <th>40</th>\n",
              "      <td>2014</td>\n",
              "      <td>TESLA</td>\n",
              "      <td>653</td>\n",
              "    </tr>\n",
              "    <tr>\n",
              "      <th>51</th>\n",
              "      <td>2015</td>\n",
              "      <td>TESLA</td>\n",
              "      <td>1071</td>\n",
              "    </tr>\n",
              "    <tr>\n",
              "      <th>67</th>\n",
              "      <td>2016</td>\n",
              "      <td>TESLA</td>\n",
              "      <td>1617</td>\n",
              "    </tr>\n",
              "    <tr>\n",
              "      <th>84</th>\n",
              "      <td>2017</td>\n",
              "      <td>TESLA</td>\n",
              "      <td>1635</td>\n",
              "    </tr>\n",
              "    <tr>\n",
              "      <th>104</th>\n",
              "      <td>2018</td>\n",
              "      <td>TESLA</td>\n",
              "      <td>8027</td>\n",
              "    </tr>\n",
              "    <tr>\n",
              "      <th>125</th>\n",
              "      <td>2019</td>\n",
              "      <td>TESLA</td>\n",
              "      <td>4642</td>\n",
              "    </tr>\n",
              "    <tr>\n",
              "      <th>146</th>\n",
              "      <td>2020</td>\n",
              "      <td>TESLA</td>\n",
              "      <td>6938</td>\n",
              "    </tr>\n",
              "    <tr>\n",
              "      <th>167</th>\n",
              "      <td>2021</td>\n",
              "      <td>TESLA</td>\n",
              "      <td>10872</td>\n",
              "    </tr>\n",
              "    <tr>\n",
              "      <th>191</th>\n",
              "      <td>2022</td>\n",
              "      <td>TESLA</td>\n",
              "      <td>13879</td>\n",
              "    </tr>\n",
              "  </tbody>\n",
              "</table>\n",
              "</div>\n",
              "    <div class=\"colab-df-buttons\">\n",
              "\n",
              "  <div class=\"colab-df-container\">\n",
              "    <button class=\"colab-df-convert\" onclick=\"convertToInteractive('df-bf115770-1886-4c15-adeb-c720c24f9123')\"\n",
              "            title=\"Convert this dataframe to an interactive table.\"\n",
              "            style=\"display:none;\">\n",
              "\n",
              "  <svg xmlns=\"http://www.w3.org/2000/svg\" height=\"24px\" viewBox=\"0 -960 960 960\">\n",
              "    <path d=\"M120-120v-720h720v720H120Zm60-500h600v-160H180v160Zm220 220h160v-160H400v160Zm0 220h160v-160H400v160ZM180-400h160v-160H180v160Zm440 0h160v-160H620v160ZM180-180h160v-160H180v160Zm440 0h160v-160H620v160Z\"/>\n",
              "  </svg>\n",
              "    </button>\n",
              "\n",
              "  <style>\n",
              "    .colab-df-container {\n",
              "      display:flex;\n",
              "      gap: 12px;\n",
              "    }\n",
              "\n",
              "    .colab-df-convert {\n",
              "      background-color: #E8F0FE;\n",
              "      border: none;\n",
              "      border-radius: 50%;\n",
              "      cursor: pointer;\n",
              "      display: none;\n",
              "      fill: #1967D2;\n",
              "      height: 32px;\n",
              "      padding: 0 0 0 0;\n",
              "      width: 32px;\n",
              "    }\n",
              "\n",
              "    .colab-df-convert:hover {\n",
              "      background-color: #E2EBFA;\n",
              "      box-shadow: 0px 1px 2px rgba(60, 64, 67, 0.3), 0px 1px 3px 1px rgba(60, 64, 67, 0.15);\n",
              "      fill: #174EA6;\n",
              "    }\n",
              "\n",
              "    .colab-df-buttons div {\n",
              "      margin-bottom: 4px;\n",
              "    }\n",
              "\n",
              "    [theme=dark] .colab-df-convert {\n",
              "      background-color: #3B4455;\n",
              "      fill: #D2E3FC;\n",
              "    }\n",
              "\n",
              "    [theme=dark] .colab-df-convert:hover {\n",
              "      background-color: #434B5C;\n",
              "      box-shadow: 0px 1px 3px 1px rgba(0, 0, 0, 0.15);\n",
              "      filter: drop-shadow(0px 1px 2px rgba(0, 0, 0, 0.3));\n",
              "      fill: #FFFFFF;\n",
              "    }\n",
              "  </style>\n",
              "\n",
              "    <script>\n",
              "      const buttonEl =\n",
              "        document.querySelector('#df-bf115770-1886-4c15-adeb-c720c24f9123 button.colab-df-convert');\n",
              "      buttonEl.style.display =\n",
              "        google.colab.kernel.accessAllowed ? 'block' : 'none';\n",
              "\n",
              "      async function convertToInteractive(key) {\n",
              "        const element = document.querySelector('#df-bf115770-1886-4c15-adeb-c720c24f9123');\n",
              "        const dataTable =\n",
              "          await google.colab.kernel.invokeFunction('convertToInteractive',\n",
              "                                                    [key], {});\n",
              "        if (!dataTable) return;\n",
              "\n",
              "        const docLinkHtml = 'Like what you see? Visit the ' +\n",
              "          '<a target=\"_blank\" href=https://colab.research.google.com/notebooks/data_table.ipynb>data table notebook</a>'\n",
              "          + ' to learn more about interactive tables.';\n",
              "        element.innerHTML = '';\n",
              "        dataTable['output_type'] = 'display_data';\n",
              "        await google.colab.output.renderOutput(dataTable, element);\n",
              "        const docLink = document.createElement('div');\n",
              "        docLink.innerHTML = docLinkHtml;\n",
              "        element.appendChild(docLink);\n",
              "      }\n",
              "    </script>\n",
              "  </div>\n",
              "\n",
              "\n",
              "<div id=\"df-c89f7a66-f6f0-49e2-892d-146d0cd5e7c5\">\n",
              "  <button class=\"colab-df-quickchart\" onclick=\"quickchart('df-c89f7a66-f6f0-49e2-892d-146d0cd5e7c5')\"\n",
              "            title=\"Suggest charts.\"\n",
              "            style=\"display:none;\">\n",
              "\n",
              "<svg xmlns=\"http://www.w3.org/2000/svg\" height=\"24px\"viewBox=\"0 0 24 24\"\n",
              "     width=\"24px\">\n",
              "    <g>\n",
              "        <path d=\"M19 3H5c-1.1 0-2 .9-2 2v14c0 1.1.9 2 2 2h14c1.1 0 2-.9 2-2V5c0-1.1-.9-2-2-2zM9 17H7v-7h2v7zm4 0h-2V7h2v10zm4 0h-2v-4h2v4z\"/>\n",
              "    </g>\n",
              "</svg>\n",
              "  </button>\n",
              "\n",
              "<style>\n",
              "  .colab-df-quickchart {\n",
              "    background-color: #E8F0FE;\n",
              "    border: none;\n",
              "    border-radius: 50%;\n",
              "    cursor: pointer;\n",
              "    display: none;\n",
              "    fill: #1967D2;\n",
              "    height: 32px;\n",
              "    padding: 0 0 0 0;\n",
              "    width: 32px;\n",
              "  }\n",
              "\n",
              "  .colab-df-quickchart:hover {\n",
              "    background-color: #E2EBFA;\n",
              "    box-shadow: 0px 1px 2px rgba(60, 64, 67, 0.3), 0px 1px 3px 1px rgba(60, 64, 67, 0.15);\n",
              "    fill: #174EA6;\n",
              "  }\n",
              "\n",
              "  [theme=dark] .colab-df-quickchart {\n",
              "    background-color: #3B4455;\n",
              "    fill: #D2E3FC;\n",
              "  }\n",
              "\n",
              "  [theme=dark] .colab-df-quickchart:hover {\n",
              "    background-color: #434B5C;\n",
              "    box-shadow: 0px 1px 3px 1px rgba(0, 0, 0, 0.15);\n",
              "    filter: drop-shadow(0px 1px 2px rgba(0, 0, 0, 0.3));\n",
              "    fill: #FFFFFF;\n",
              "  }\n",
              "</style>\n",
              "\n",
              "  <script>\n",
              "    async function quickchart(key) {\n",
              "      const charts = await google.colab.kernel.invokeFunction(\n",
              "          'suggestCharts', [key], {});\n",
              "    }\n",
              "    (() => {\n",
              "      let quickchartButtonEl =\n",
              "        document.querySelector('#df-c89f7a66-f6f0-49e2-892d-146d0cd5e7c5 button');\n",
              "      quickchartButtonEl.style.display =\n",
              "        google.colab.kernel.accessAllowed ? 'block' : 'none';\n",
              "    })();\n",
              "  </script>\n",
              "</div>\n",
              "    </div>\n",
              "  </div>\n"
            ]
          },
          "metadata": {},
          "execution_count": 454
        }
      ]
    },
    {
      "cell_type": "code",
      "source": [
        "plt.subplots(figsize=(8,6))\n",
        "plt.plot(data_tesla['Year'], data_tesla['Count'])\n",
        "plt.xlabel('Year')\n",
        "plt.ylabel('Jumlah Produksi Tesla')\n",
        "plt.show()"
      ],
      "metadata": {
        "colab": {
          "base_uri": "https://localhost:8080/",
          "height": 542
        },
        "id": "iPgAVuAhimjN",
        "outputId": "25103695-9e27-4c46-9663-31e70363ee21"
      },
      "execution_count": null,
      "outputs": [
        {
          "output_type": "display_data",
          "data": {
            "text/plain": [
              "<Figure size 800x600 with 1 Axes>"
            ],
            "image/png": "[encoded data removed]"
          },
          "metadata": {}
        }
      ]
    },
    {
      "cell_type": "code",
      "source": [
        "data_nissan = data.loc[data['Make'] == 'NISSAN']\n",
        "data_nissan"
      ],
      "metadata": {
        "colab": {
          "base_uri": "https://localhost:8080/",
          "height": 425
        },
        "id": "cL1RFFjOj3a5",
        "outputId": "c3d7753b-ae5f-4aa6-951d-4ed2d51a8e4c"
      },
      "execution_count": null,
      "outputs": [
        {
          "output_type": "execute_result",
          "data": {
            "text/plain": [
              "     Year    Make  Count\n",
              "11   2011  NISSAN    694\n",
              "19   2012  NISSAN    589\n",
              "25   2013  NISSAN   1937\n",
              "37   2014  NISSAN    640\n",
              "48   2015  NISSAN   1840\n",
              "64   2016  NISSAN   1172\n",
              "81   2017  NISSAN    936\n",
              "101  2018  NISSAN   1226\n",
              "121  2019  NISSAN   1391\n",
              "144  2020  NISSAN    642\n",
              "164  2021  NISSAN    473\n",
              "187  2022  NISSAN    940"
            ],
            "text/html": [
              "\n",
              "  <div id=\"df-5860a27f-60b1-48bd-b141-c93bca4e1c69\" class=\"colab-df-container\">\n",
              "    <div>\n",
              "<style scoped>\n",
              "    .dataframe tbody tr th:only-of-type {\n",
              "        vertical-align: middle;\n",
              "    }\n",
              "\n",
              "    .dataframe tbody tr th {\n",
              "        vertical-align: top;\n",
              "    }\n",
              "\n",
              "    .dataframe thead th {\n",
              "        text-align: right;\n",
              "    }\n",
              "</style>\n",
              "<table border=\"1\" class=\"dataframe\">\n",
              "  <thead>\n",
              "    <tr style=\"text-align: right;\">\n",
              "      <th></th>\n",
              "      <th>Year</th>\n",
              "      <th>Make</th>\n",
              "      <th>Count</th>\n",
              "    </tr>\n",
              "  </thead>\n",
              "  <tbody>\n",
              "    <tr>\n",
              "      <th>11</th>\n",
              "      <td>2011</td>\n",
              "      <td>NISSAN</td>\n",
              "      <td>694</td>\n",
              "    </tr>\n",
              "    <tr>\n",
              "      <th>19</th>\n",
              "      <td>2012</td>\n",
              "      <td>NISSAN</td>\n",
              "      <td>589</td>\n",
              "    </tr>\n",
              "    <tr>\n",
              "      <th>25</th>\n",
              "      <td>2013</td>\n",
              "      <td>NISSAN</td>\n",
              "      <td>1937</td>\n",
              "    </tr>\n",
              "    <tr>\n",
              "      <th>37</th>\n",
              "      <td>2014</td>\n",
              "      <td>NISSAN</td>\n",
              "      <td>640</td>\n",
              "    </tr>\n",
              "    <tr>\n",
              "      <th>48</th>\n",
              "      <td>2015</td>\n",
              "      <td>NISSAN</td>\n",
              "      <td>1840</td>\n",
              "    </tr>\n",
              "    <tr>\n",
              "      <th>64</th>\n",
              "      <td>2016</td>\n",
              "      <td>NISSAN</td>\n",
              "      <td>1172</td>\n",
              "    </tr>\n",
              "    <tr>\n",
              "      <th>81</th>\n",
              "      <td>2017</td>\n",
              "      <td>NISSAN</td>\n",
              "      <td>936</td>\n",
              "    </tr>\n",
              "    <tr>\n",
              "      <th>101</th>\n",
              "      <td>2018</td>\n",
              "      <td>NISSAN</td>\n",
              "      <td>1226</td>\n",
              "    </tr>\n",
              "    <tr>\n",
              "      <th>121</th>\n",
              "      <td>2019</td>\n",
              "      <td>NISSAN</td>\n",
              "      <td>1391</td>\n",
              "    </tr>\n",
              "    <tr>\n",
              "      <th>144</th>\n",
              "      <td>2020</td>\n",
              "      <td>NISSAN</td>\n",
              "      <td>642</td>\n",
              "    </tr>\n",
              "    <tr>\n",
              "      <th>164</th>\n",
              "      <td>2021</td>\n",
              "      <td>NISSAN</td>\n",
              "      <td>473</td>\n",
              "    </tr>\n",
              "    <tr>\n",
              "      <th>187</th>\n",
              "      <td>2022</td>\n",
              "      <td>NISSAN</td>\n",
              "      <td>940</td>\n",
              "    </tr>\n",
              "  </tbody>\n",
              "</table>\n",
              "</div>\n",
              "    <div class=\"colab-df-buttons\">\n",
              "\n",
              "  <div class=\"colab-df-container\">\n",
              "    <button class=\"colab-df-convert\" onclick=\"convertToInteractive('df-5860a27f-60b1-48bd-b141-c93bca4e1c69')\"\n",
              "            title=\"Convert this dataframe to an interactive table.\"\n",
              "            style=\"display:none;\">\n",
              "\n",
              "  <svg xmlns=\"http://www.w3.org/2000/svg\" height=\"24px\" viewBox=\"0 -960 960 960\">\n",
              "    <path d=\"M120-120v-720h720v720H120Zm60-500h600v-160H180v160Zm220 220h160v-160H400v160Zm0 220h160v-160H400v160ZM180-400h160v-160H180v160Zm440 0h160v-160H620v160ZM180-180h160v-160H180v160Zm440 0h160v-160H620v160Z\"/>\n",
              "  </svg>\n",
              "    </button>\n",
              "\n",
              "  <style>\n",
              "    .colab-df-container {\n",
              "      display:flex;\n",
              "      gap: 12px;\n",
              "    }\n",
              "\n",
              "    .colab-df-convert {\n",
              "      background-color: #E8F0FE;\n",
              "      border: none;\n",
              "      border-radius: 50%;\n",
              "      cursor: pointer;\n",
              "      display: none;\n",
              "      fill: #1967D2;\n",
              "      height: 32px;\n",
              "      padding: 0 0 0 0;\n",
              "      width: 32px;\n",
              "    }\n",
              "\n",
              "    .colab-df-convert:hover {\n",
              "      background-color: #E2EBFA;\n",
              "      box-shadow: 0px 1px 2px rgba(60, 64, 67, 0.3), 0px 1px 3px 1px rgba(60, 64, 67, 0.15);\n",
              "      fill: #174EA6;\n",
              "    }\n",
              "\n",
              "    .colab-df-buttons div {\n",
              "      margin-bottom: 4px;\n",
              "    }\n",
              "\n",
              "    [theme=dark] .colab-df-convert {\n",
              "      background-color: #3B4455;\n",
              "      fill: #D2E3FC;\n",
              "    }\n",
              "\n",
              "    [theme=dark] .colab-df-convert:hover {\n",
              "      background-color: #434B5C;\n",
              "      box-shadow: 0px 1px 3px 1px rgba(0, 0, 0, 0.15);\n",
              "      filter: drop-shadow(0px 1px 2px rgba(0, 0, 0, 0.3));\n",
              "      fill: #FFFFFF;\n",
              "    }\n",
              "  </style>\n",
              "\n",
              "    <script>\n",
              "      const buttonEl =\n",
              "        document.querySelector('#df-5860a27f-60b1-48bd-b141-c93bca4e1c69 button.colab-df-convert');\n",
              "      buttonEl.style.display =\n",
              "        google.colab.kernel.accessAllowed ? 'block' : 'none';\n",
              "\n",
              "      async function convertToInteractive(key) {\n",
              "        const element = document.querySelector('#df-5860a27f-60b1-48bd-b141-c93bca4e1c69');\n",
              "        const dataTable =\n",
              "          await google.colab.kernel.invokeFunction('convertToInteractive',\n",
              "                                                    [key], {});\n",
              "        if (!dataTable) return;\n",
              "\n",
              "        const docLinkHtml = 'Like what you see? Visit the ' +\n",
              "          '<a target=\"_blank\" href=https://colab.research.google.com/notebooks/data_table.ipynb>data table notebook</a>'\n",
              "          + ' to learn more about interactive tables.';\n",
              "        element.innerHTML = '';\n",
              "        dataTable['output_type'] = 'display_data';\n",
              "        await google.colab.output.renderOutput(dataTable, element);\n",
              "        const docLink = document.createElement('div');\n",
              "        docLink.innerHTML = docLinkHtml;\n",
              "        element.appendChild(docLink);\n",
              "      }\n",
              "    </script>\n",
              "  </div>\n",
              "\n",
              "\n",
              "<div id=\"df-ef4636cb-0cb7-4aa6-8118-883840b55e0a\">\n",
              "  <button class=\"colab-df-quickchart\" onclick=\"quickchart('df-ef4636cb-0cb7-4aa6-8118-883840b55e0a')\"\n",
              "            title=\"Suggest charts.\"\n",
              "            style=\"display:none;\">\n",
              "\n",
              "<svg xmlns=\"http://www.w3.org/2000/svg\" height=\"24px\"viewBox=\"0 0 24 24\"\n",
              "     width=\"24px\">\n",
              "    <g>\n",
              "        <path d=\"M19 3H5c-1.1 0-2 .9-2 2v14c0 1.1.9 2 2 2h14c1.1 0 2-.9 2-2V5c0-1.1-.9-2-2-2zM9 17H7v-7h2v7zm4 0h-2V7h2v10zm4 0h-2v-4h2v4z\"/>\n",
              "    </g>\n",
              "</svg>\n",
              "  </button>\n",
              "\n",
              "<style>\n",
              "  .colab-df-quickchart {\n",
              "    background-color: #E8F0FE;\n",
              "    border: none;\n",
              "    border-radius: 50%;\n",
              "    cursor: pointer;\n",
              "    display: none;\n",
              "    fill: #1967D2;\n",
              "    height: 32px;\n",
              "    padding: 0 0 0 0;\n",
              "    width: 32px;\n",
              "  }\n",
              "\n",
              "  .colab-df-quickchart:hover {\n",
              "    background-color: #E2EBFA;\n",
              "    box-shadow: 0px 1px 2px rgba(60, 64, 67, 0.3), 0px 1px 3px 1px rgba(60, 64, 67, 0.15);\n",
              "    fill: #174EA6;\n",
              "  }\n",
              "\n",
              "  [theme=dark] .colab-df-quickchart {\n",
              "    background-color: #3B4455;\n",
              "    fill: #D2E3FC;\n",
              "  }\n",
              "\n",
              "  [theme=dark] .colab-df-quickchart:hover {\n",
              "    background-color: #434B5C;\n",
              "    box-shadow: 0px 1px 3px 1px rgba(0, 0, 0, 0.15);\n",
              "    filter: drop-shadow(0px 1px 2px rgba(0, 0, 0, 0.3));\n",
              "    fill: #FFFFFF;\n",
              "  }\n",
              "</style>\n",
              "\n",
              "  <script>\n",
              "    async function quickchart(key) {\n",
              "      const charts = await google.colab.kernel.invokeFunction(\n",
              "          'suggestCharts', [key], {});\n",
              "    }\n",
              "    (() => {\n",
              "      let quickchartButtonEl =\n",
              "        document.querySelector('#df-ef4636cb-0cb7-4aa6-8118-883840b55e0a button');\n",
              "      quickchartButtonEl.style.display =\n",
              "        google.colab.kernel.accessAllowed ? 'block' : 'none';\n",
              "    })();\n",
              "  </script>\n",
              "</div>\n",
              "    </div>\n",
              "  </div>\n"
            ]
          },
          "metadata": {},
          "execution_count": 456
        }
      ]
    },
    {
      "cell_type": "code",
      "source": [
        "plt.subplots(figsize=(8,6))\n",
        "plt.plot(data_nissan['Year'], data_nissan['Count'])\n",
        "plt.xlabel('Year')\n",
        "plt.ylabel('Jumlah Produksi Nissan')\n",
        "plt.show()"
      ],
      "metadata": {
        "colab": {
          "base_uri": "https://localhost:8080/",
          "height": 544
        },
        "id": "DRFpgJF4j92i",
        "outputId": "56dbb730-7378-47e3-8d76-2b9e7a2c9f54"
      },
      "execution_count": null,
      "outputs": [
        {
          "output_type": "display_data",
          "data": {
            "text/plain": [
              "<Figure size 800x600 with 1 Axes>"
            ],
            "image/png": "[encoded data removed]"
          },
          "metadata": {}
        }
      ]
    },
    {
      "cell_type": "code",
      "source": [
        "data_chevrolet = data.loc[data['Make'] == 'CHEVROLET']\n",
        "data_chevrolet"
      ],
      "metadata": {
        "colab": {
          "base_uri": "https://localhost:8080/",
          "height": 425
        },
        "id": "aPf0jBXlkGxd",
        "outputId": "c8e49019-c937-4333-a0ed-63f3f2a92b69"
      },
      "execution_count": null,
      "outputs": [
        {
          "output_type": "execute_result",
          "data": {
            "text/plain": [
              "     Year       Make  Count\n",
              "10   2011  CHEVROLET     76\n",
              "15   2012  CHEVROLET    474\n",
              "22   2013  CHEVROLET    798\n",
              "31   2014  CHEVROLET    713\n",
              "43   2015  CHEVROLET    470\n",
              "57   2016  CHEVROLET    301\n",
              "73   2017  CHEVROLET   2738\n",
              "91   2018  CHEVROLET   1152\n",
              "110  2019  CHEVROLET   1007\n",
              "132  2020  CHEVROLET    957\n",
              "152  2021  CHEVROLET    351\n",
              "174  2022  CHEVROLET    914"
            ],
            "text/html": [
              "\n",
              "  <div id=\"df-cab62167-a422-4170-8c1e-3b0f2a87c7d1\" class=\"colab-df-container\">\n",
              "    <div>\n",
              "<style scoped>\n",
              "    .dataframe tbody tr th:only-of-type {\n",
              "        vertical-align: middle;\n",
              "    }\n",
              "\n",
              "    .dataframe tbody tr th {\n",
              "        vertical-align: top;\n",
              "    }\n",
              "\n",
              "    .dataframe thead th {\n",
              "        text-align: right;\n",
              "    }\n",
              "</style>\n",
              "<table border=\"1\" class=\"dataframe\">\n",
              "  <thead>\n",
              "    <tr style=\"text-align: right;\">\n",
              "      <th></th>\n",
              "      <th>Year</th>\n",
              "      <th>Make</th>\n",
              "      <th>Count</th>\n",
              "    </tr>\n",
              "  </thead>\n",
              "  <tbody>\n",
              "    <tr>\n",
              "      <th>10</th>\n",
              "      <td>2011</td>\n",
              "      <td>CHEVROLET</td>\n",
              "      <td>76</td>\n",
              "    </tr>\n",
              "    <tr>\n",
              "      <th>15</th>\n",
              "      <td>2012</td>\n",
              "      <td>CHEVROLET</td>\n",
              "      <td>474</td>\n",
              "    </tr>\n",
              "    <tr>\n",
              "      <th>22</th>\n",
              "      <td>2013</td>\n",
              "      <td>CHEVROLET</td>\n",
              "      <td>798</td>\n",
              "    </tr>\n",
              "    <tr>\n",
              "      <th>31</th>\n",
              "      <td>2014</td>\n",
              "      <td>CHEVROLET</td>\n",
              "      <td>713</td>\n",
              "    </tr>\n",
              "    <tr>\n",
              "      <th>43</th>\n",
              "      <td>2015</td>\n",
              "      <td>CHEVROLET</td>\n",
              "      <td>470</td>\n",
              "    </tr>\n",
              "    <tr>\n",
              "      <th>57</th>\n",
              "      <td>2016</td>\n",
              "      <td>CHEVROLET</td>\n",
              "      <td>301</td>\n",
              "    </tr>\n",
              "    <tr>\n",
              "      <th>73</th>\n",
              "      <td>2017</td>\n",
              "      <td>CHEVROLET</td>\n",
              "      <td>2738</td>\n",
              "    </tr>\n",
              "    <tr>\n",
              "      <th>91</th>\n",
              "      <td>2018</td>\n",
              "      <td>CHEVROLET</td>\n",
              "      <td>1152</td>\n",
              "    </tr>\n",
              "    <tr>\n",
              "      <th>110</th>\n",
              "      <td>2019</td>\n",
              "      <td>CHEVROLET</td>\n",
              "      <td>1007</td>\n",
              "    </tr>\n",
              "    <tr>\n",
              "      <th>132</th>\n",
              "      <td>2020</td>\n",
              "      <td>CHEVROLET</td>\n",
              "      <td>957</td>\n",
              "    </tr>\n",
              "    <tr>\n",
              "      <th>152</th>\n",
              "      <td>2021</td>\n",
              "      <td>CHEVROLET</td>\n",
              "      <td>351</td>\n",
              "    </tr>\n",
              "    <tr>\n",
              "      <th>174</th>\n",
              "      <td>2022</td>\n",
              "      <td>CHEVROLET</td>\n",
              "      <td>914</td>\n",
              "    </tr>\n",
              "  </tbody>\n",
              "</table>\n",
              "</div>\n",
              "    <div class=\"colab-df-buttons\">\n",
              "\n",
              "  <div class=\"colab-df-container\">\n",
              "    <button class=\"colab-df-convert\" onclick=\"convertToInteractive('df-cab62167-a422-4170-8c1e-3b0f2a87c7d1')\"\n",
              "            title=\"Convert this dataframe to an interactive table.\"\n",
              "            style=\"display:none;\">\n",
              "\n",
              "  <svg xmlns=\"http://www.w3.org/2000/svg\" height=\"24px\" viewBox=\"0 -960 960 960\">\n",
              "    <path d=\"M120-120v-720h720v720H120Zm60-500h600v-160H180v160Zm220 220h160v-160H400v160Zm0 220h160v-160H400v160ZM180-400h160v-160H180v160Zm440 0h160v-160H620v160ZM180-180h160v-160H180v160Zm440 0h160v-160H620v160Z\"/>\n",
              "  </svg>\n",
              "    </button>\n",
              "\n",
              "  <style>\n",
              "    .colab-df-container {\n",
              "      display:flex;\n",
              "      gap: 12px;\n",
              "    }\n",
              "\n",
              "    .colab-df-convert {\n",
              "      background-color: #E8F0FE;\n",
              "      border: none;\n",
              "      border-radius: 50%;\n",
              "      cursor: pointer;\n",
              "      display: none;\n",
              "      fill: #1967D2;\n",
              "      height: 32px;\n",
              "      padding: 0 0 0 0;\n",
              "      width: 32px;\n",
              "    }\n",
              "\n",
              "    .colab-df-convert:hover {\n",
              "      background-color: #E2EBFA;\n",
              "      box-shadow: 0px 1px 2px rgba(60, 64, 67, 0.3), 0px 1px 3px 1px rgba(60, 64, 67, 0.15);\n",
              "      fill: #174EA6;\n",
              "    }\n",
              "\n",
              "    .colab-df-buttons div {\n",
              "      margin-bottom: 4px;\n",
              "    }\n",
              "\n",
              "    [theme=dark] .colab-df-convert {\n",
              "      background-color: #3B4455;\n",
              "      fill: #D2E3FC;\n",
              "    }\n",
              "\n",
              "    [theme=dark] .colab-df-convert:hover {\n",
              "      background-color: #434B5C;\n",
              "      box-shadow: 0px 1px 3px 1px rgba(0, 0, 0, 0.15);\n",
              "      filter: drop-shadow(0px 1px 2px rgba(0, 0, 0, 0.3));\n",
              "      fill: #FFFFFF;\n",
              "    }\n",
              "  </style>\n",
              "\n",
              "    <script>\n",
              "      const buttonEl =\n",
              "        document.querySelector('#df-cab62167-a422-4170-8c1e-3b0f2a87c7d1 button.colab-df-convert');\n",
              "      buttonEl.style.display =\n",
              "        google.colab.kernel.accessAllowed ? 'block' : 'none';\n",
              "\n",
              "      async function convertToInteractive(key) {\n",
              "        const element = document.querySelector('#df-cab62167-a422-4170-8c1e-3b0f2a87c7d1');\n",
              "        const dataTable =\n",
              "          await google.colab.kernel.invokeFunction('convertToInteractive',\n",
              "                                                    [key], {});\n",
              "        if (!dataTable) return;\n",
              "\n",
              "        const docLinkHtml = 'Like what you see? Visit the ' +\n",
              "          '<a target=\"_blank\" href=https://colab.research.google.com/notebooks/data_table.ipynb>data table notebook</a>'\n",
              "          + ' to learn more about interactive tables.';\n",
              "        element.innerHTML = '';\n",
              "        dataTable['output_type'] = 'display_data';\n",
              "        await google.colab.output.renderOutput(dataTable, element);\n",
              "        const docLink = document.createElement('div');\n",
              "        docLink.innerHTML = docLinkHtml;\n",
              "        element.appendChild(docLink);\n",
              "      }\n",
              "    </script>\n",
              "  </div>\n",
              "\n",
              "\n",
              "<div id=\"df-b5fb4193-bbf3-4265-ab04-862e3c7b37c3\">\n",
              "  <button class=\"colab-df-quickchart\" onclick=\"quickchart('df-b5fb4193-bbf3-4265-ab04-862e3c7b37c3')\"\n",
              "            title=\"Suggest charts.\"\n",
              "            style=\"display:none;\">\n",
              "\n",
              "<svg xmlns=\"http://www.w3.org/2000/svg\" height=\"24px\"viewBox=\"0 0 24 24\"\n",
              "     width=\"24px\">\n",
              "    <g>\n",
              "        <path d=\"M19 3H5c-1.1 0-2 .9-2 2v14c0 1.1.9 2 2 2h14c1.1 0 2-.9 2-2V5c0-1.1-.9-2-2-2zM9 17H7v-7h2v7zm4 0h-2V7h2v10zm4 0h-2v-4h2v4z\"/>\n",
              "    </g>\n",
              "</svg>\n",
              "  </button>\n",
              "\n",
              "<style>\n",
              "  .colab-df-quickchart {\n",
              "    background-color: #E8F0FE;\n",
              "    border: none;\n",
              "    border-radius: 50%;\n",
              "    cursor: pointer;\n",
              "    display: none;\n",
              "    fill: #1967D2;\n",
              "    height: 32px;\n",
              "    padding: 0 0 0 0;\n",
              "    width: 32px;\n",
              "  }\n",
              "\n",
              "  .colab-df-quickchart:hover {\n",
              "    background-color: #E2EBFA;\n",
              "    box-shadow: 0px 1px 2px rgba(60, 64, 67, 0.3), 0px 1px 3px 1px rgba(60, 64, 67, 0.15);\n",
              "    fill: #174EA6;\n",
              "  }\n",
              "\n",
              "  [theme=dark] .colab-df-quickchart {\n",
              "    background-color: #3B4455;\n",
              "    fill: #D2E3FC;\n",
              "  }\n",
              "\n",
              "  [theme=dark] .colab-df-quickchart:hover {\n",
              "    background-color: #434B5C;\n",
              "    box-shadow: 0px 1px 3px 1px rgba(0, 0, 0, 0.15);\n",
              "    filter: drop-shadow(0px 1px 2px rgba(0, 0, 0, 0.3));\n",
              "    fill: #FFFFFF;\n",
              "  }\n",
              "</style>\n",
              "\n",
              "  <script>\n",
              "    async function quickchart(key) {\n",
              "      const charts = await google.colab.kernel.invokeFunction(\n",
              "          'suggestCharts', [key], {});\n",
              "    }\n",
              "    (() => {\n",
              "      let quickchartButtonEl =\n",
              "        document.querySelector('#df-b5fb4193-bbf3-4265-ab04-862e3c7b37c3 button');\n",
              "      quickchartButtonEl.style.display =\n",
              "        google.colab.kernel.accessAllowed ? 'block' : 'none';\n",
              "    })();\n",
              "  </script>\n",
              "</div>\n",
              "    </div>\n",
              "  </div>\n"
            ]
          },
          "metadata": {},
          "execution_count": 458
        }
      ]
    },
    {
      "cell_type": "code",
      "source": [
        "plt.subplots(figsize=(8,6))\n",
        "plt.plot(data_chevrolet['Year'], data_chevrolet['Count'])\n",
        "plt.xlabel('Year')\n",
        "plt.ylabel('Jumlah Produksi Chevrolet')\n",
        "plt.show()"
      ],
      "metadata": {
        "colab": {
          "base_uri": "https://localhost:8080/",
          "height": 542
        },
        "id": "lAggUEYwkRHh",
        "outputId": "3156ad30-588b-4053-fae0-6990664a11b2"
      },
      "execution_count": null,
      "outputs": [
        {
          "output_type": "display_data",
          "data": {
            "text/plain": [
              "<Figure size 800x600 with 1 Axes>"
            ],
            "image/png": "[encoded data removed]"
          },
          "metadata": {}
        }
      ]
    },
    {
      "cell_type": "markdown",
      "source": [
        "# Modeling & Evaluation"
      ],
      "metadata": {
        "id": "-TCBJwYdMIe5"
      }
    },
    {
      "cell_type": "markdown",
      "metadata": {
        "id": "1jg_OTy0Dzw8"
      },
      "source": [
        "## Modeling: Polynomial Regression"
      ]
    },
    {
      "cell_type": "markdown",
      "source": [
        "### TESLA"
      ],
      "metadata": {
        "id": "fgBH9Ya-LMx3"
      }
    },
    {
      "cell_type": "code",
      "source": [
        "# Separate features and target\n",
        "X = data_tesla['Year'].values.reshape(-1, 1)  # Reshape for single feature\n",
        "y = data_tesla['Count'].values\n",
        "\n",
        "# Splitting data into training and testing sets\n",
        "X_train = X[:10]\n",
        "y_train = y[:10]\n",
        "\n",
        "X_test = X[10:]\n",
        "y_test = y[10:]"
      ],
      "metadata": {
        "id": "I8wt2u8teDx4"
      },
      "execution_count": null,
      "outputs": []
    },
    {
      "cell_type": "code",
      "source": [
        "from sklearn.preprocessing import StandardScaler\n",
        "scaler = StandardScaler()\n",
        "X_train_scaler = scaler.fit_transform(X_train)\n",
        "X_test_scaler = scaler.transform(X_test)"
      ],
      "metadata": {
        "id": "yR4nlkTdAv30"
      },
      "execution_count": null,
      "outputs": []
    },
    {
      "cell_type": "code",
      "source": [
        "# Transform features to polynomial features\n",
        "poly = PolynomialFeatures(degree=6)\n",
        "X_poly_train = poly.fit_transform(X_train_scaler)\n",
        "X_test_poly = poly.transform(X_test_scaler)\n",
        "\n",
        "# Creating and training the polynomial regression model\n",
        "lin = LinearRegression()\n",
        "poly.fit(X_poly_train, y_train)\n",
        "lin.fit(X_poly_train, y_train)"
      ],
      "metadata": {
        "colab": {
          "base_uri": "https://localhost:8080/",
          "height": 74
        },
        "id": "qrW39zVnAC59",
        "outputId": "8baa5100-8c87-4da0-dea2-d2b6f3098a1e"
      },
      "execution_count": null,
      "outputs": [
        {
          "output_type": "execute_result",
          "data": {
            "text/plain": [
              "LinearRegression()"
            ],
            "text/html": [
              "<style>#sk-container-id-49 {color: black;background-color: white;}#sk-container-id-49 pre{padding: 0;}#sk-container-id-49 div.sk-toggleable {background-color: white;}#sk-container-id-49 label.sk-toggleable__label {cursor: pointer;display: block;width: 100%;margin-bottom: 0;padding: 0.3em;box-sizing: border-box;text-align: center;}#sk-container-id-49 label.sk-toggleable__label-arrow:before {content: \"▸\";float: left;margin-right: 0.25em;color: #696969;}#sk-container-id-49 label.sk-toggleable__label-arrow:hover:before {color: black;}#sk-container-id-49 div.sk-estimator:hover label.sk-toggleable__label-arrow:before {color: black;}#sk-container-id-49 div.sk-toggleable__content {max-height: 0;max-width: 0;overflow: hidden;text-align: left;background-color: #f0f8ff;}#sk-container-id-49 div.sk-toggleable__content pre {margin: 0.2em;color: black;border-radius: 0.25em;background-color: #f0f8ff;}#sk-container-id-49 input.sk-toggleable__control:checked~div.sk-toggleable__content {max-height: 200px;max-width: 100%;overflow: auto;}#sk-container-id-49 input.sk-toggleable__control:checked~label.sk-toggleable__label-arrow:before {content: \"▾\";}#sk-container-id-49 div.sk-estimator input.sk-toggleable__control:checked~label.sk-toggleable__label {background-color: #d4ebff;}#sk-container-id-49 div.sk-label input.sk-toggleable__control:checked~label.sk-toggleable__label {background-color: #d4ebff;}#sk-container-id-49 input.sk-hidden--visually {border: 0;clip: rect(1px 1px 1px 1px);clip: rect(1px, 1px, 1px, 1px);height: 1px;margin: -1px;overflow: hidden;padding: 0;position: absolute;width: 1px;}#sk-container-id-49 div.sk-estimator {font-family: monospace;background-color: #f0f8ff;border: 1px dotted black;border-radius: 0.25em;box-sizing: border-box;margin-bottom: 0.5em;}#sk-container-id-49 div.sk-estimator:hover {background-color: #d4ebff;}#sk-container-id-49 div.sk-parallel-item::after {content: \"\";width: 100%;border-bottom: 1px solid gray;flex-grow: 1;}#sk-container-id-49 div.sk-label:hover label.sk-toggleable__label {background-color: #d4ebff;}#sk-container-id-49 div.sk-serial::before {content: \"\";position: absolute;border-left: 1px solid gray;box-sizing: border-box;top: 0;bottom: 0;left: 50%;z-index: 0;}#sk-container-id-49 div.sk-serial {display: flex;flex-direction: column;align-items: center;background-color: white;padding-right: 0.2em;padding-left: 0.2em;position: relative;}#sk-container-id-49 div.sk-item {position: relative;z-index: 1;}#sk-container-id-49 div.sk-parallel {display: flex;align-items: stretch;justify-content: center;background-color: white;position: relative;}#sk-container-id-49 div.sk-item::before, #sk-container-id-49 div.sk-parallel-item::before {content: \"\";position: absolute;border-left: 1px solid gray;box-sizing: border-box;top: 0;bottom: 0;left: 50%;z-index: -1;}#sk-container-id-49 div.sk-parallel-item {display: flex;flex-direction: column;z-index: 1;position: relative;background-color: white;}#sk-container-id-49 div.sk-parallel-item:first-child::after {align-self: flex-end;width: 50%;}#sk-container-id-49 div.sk-parallel-item:last-child::after {align-self: flex-start;width: 50%;}#sk-container-id-49 div.sk-parallel-item:only-child::after {width: 0;}#sk-container-id-49 div.sk-dashed-wrapped {border: 1px dashed gray;margin: 0 0.4em 0.5em 0.4em;box-sizing: border-box;padding-bottom: 0.4em;background-color: white;}#sk-container-id-49 div.sk-label label {font-family: monospace;font-weight: bold;display: inline-block;line-height: 1.2em;}#sk-container-id-49 div.sk-label-container {text-align: center;}#sk-container-id-49 div.sk-container {/* jupyter's `normalize.less` sets `[hidden] { display: none; }` but bootstrap.min.css set `[hidden] { display: none !important; }` so we also need the `!important` here to be able to override the default hidden behavior on the sphinx rendered scikit-learn.org. See: https://github.com/scikit-learn/scikit-learn/issues/21755 */display: inline-block !important;position: relative;}#sk-container-id-49 div.sk-text-repr-fallback {display: none;}</style><div id=\"sk-container-id-49\" class=\"sk-top-container\"><div class=\"sk-text-repr-fallback\"><pre>LinearRegression()</pre><b>In a Jupyter environment, please rerun this cell to show the HTML representation or trust the notebook. <br />On GitHub, the HTML representation is unable to render, please try loading this page with nbviewer.org.</b></div><div class=\"sk-container\" hidden><div class=\"sk-item\"><div class=\"sk-estimator sk-toggleable\"><input class=\"sk-toggleable__control sk-hidden--visually\" id=\"sk-estimator-id-49\" type=\"checkbox\" checked><label for=\"sk-estimator-id-49\" class=\"sk-toggleable__label sk-toggleable__label-arrow\">LinearRegression</label><div class=\"sk-toggleable__content\"><pre>LinearRegression()</pre></div></div></div></div></div>"
            ]
          },
          "metadata": {},
          "execution_count": 462
        }
      ]
    },
    {
      "cell_type": "code",
      "source": [
        "# Predicted ‘count’ for the test data\n",
        "y_pred = lin.predict(X_test_poly)\n",
        "mean_absolute_error(y_test, y_pred)"
      ],
      "metadata": {
        "colab": {
          "base_uri": "https://localhost:8080/"
        },
        "id": "rzUowwRHBWaG",
        "outputId": "f0f8e0e5-48f1-4c4a-c7e0-b63f40a7852b"
      },
      "execution_count": null,
      "outputs": [
        {
          "output_type": "execute_result",
          "data": {
            "text/plain": [
              "50062.38181818179"
            ]
          },
          "metadata": {},
          "execution_count": 463
        }
      ]
    },
    {
      "cell_type": "code",
      "source": [
        "# Model performing on training data\n",
        "y_pred_train = lin.predict(X_poly_train)\n",
        "mean_absolute_error(y_train, y_pred_train)"
      ],
      "metadata": {
        "colab": {
          "base_uri": "https://localhost:8080/"
        },
        "id": "mU8t0XB1Bw5G",
        "outputId": "53a7aa38-8bb2-42ea-d059-fa61ac422b21"
      },
      "execution_count": null,
      "outputs": [
        {
          "output_type": "execute_result",
          "data": {
            "text/plain": [
              "793.7313286713269"
            ]
          },
          "metadata": {},
          "execution_count": 464
        }
      ]
    },
    {
      "cell_type": "markdown",
      "source": [
        "Pada data train, *mean absolute error* jauh lebih kecil daripada *mean absolute error* pada data test. Ini berarti model telah mempelajari data train dengan sangat baik sehingga hanya dapat berperforma baik pada data train.\n",
        "\n",
        "Ketika kita mencoba beberapa data baru, model berperforma buruk. Hal ini disebut sebagai overfitting. Kami tidak ingin terjadi overfitting. Kami ingin model dapat berperforma baik pada berbagai data. Oleh karena itu, kami melakukan hyperparameter tuning untuk menghasilkan kinerja model yang terbaik."
      ],
      "metadata": {
        "id": "3NK36YclB_sn"
      }
    },
    {
      "cell_type": "code",
      "source": [
        "poly = PolynomialFeatures(degree=2)\n",
        "X_poly_train = poly.fit_transform(X_train_scaler)\n",
        "X_test_poly = poly.transform(X_test_scaler)\n",
        "\n",
        "lin = LinearRegression()\n",
        "lin.fit(X_poly_train, y_train)"
      ],
      "metadata": {
        "colab": {
          "base_uri": "https://localhost:8080/",
          "height": 74
        },
        "id": "mzXUqVohB5TZ",
        "outputId": "1857eab6-2d0a-4aac-cb62-b24bd89a7419"
      },
      "execution_count": null,
      "outputs": [
        {
          "output_type": "execute_result",
          "data": {
            "text/plain": [
              "LinearRegression()"
            ],
            "text/html": [
              "<style>#sk-container-id-50 {color: black;background-color: white;}#sk-container-id-50 pre{padding: 0;}#sk-container-id-50 div.sk-toggleable {background-color: white;}#sk-container-id-50 label.sk-toggleable__label {cursor: pointer;display: block;width: 100%;margin-bottom: 0;padding: 0.3em;box-sizing: border-box;text-align: center;}#sk-container-id-50 label.sk-toggleable__label-arrow:before {content: \"▸\";float: left;margin-right: 0.25em;color: #696969;}#sk-container-id-50 label.sk-toggleable__label-arrow:hover:before {color: black;}#sk-container-id-50 div.sk-estimator:hover label.sk-toggleable__label-arrow:before {color: black;}#sk-container-id-50 div.sk-toggleable__content {max-height: 0;max-width: 0;overflow: hidden;text-align: left;background-color: #f0f8ff;}#sk-container-id-50 div.sk-toggleable__content pre {margin: 0.2em;color: black;border-radius: 0.25em;background-color: #f0f8ff;}#sk-container-id-50 input.sk-toggleable__control:checked~div.sk-toggleable__content {max-height: 200px;max-width: 100%;overflow: auto;}#sk-container-id-50 input.sk-toggleable__control:checked~label.sk-toggleable__label-arrow:before {content: \"▾\";}#sk-container-id-50 div.sk-estimator input.sk-toggleable__control:checked~label.sk-toggleable__label {background-color: #d4ebff;}#sk-container-id-50 div.sk-label input.sk-toggleable__control:checked~label.sk-toggleable__label {background-color: #d4ebff;}#sk-container-id-50 input.sk-hidden--visually {border: 0;clip: rect(1px 1px 1px 1px);clip: rect(1px, 1px, 1px, 1px);height: 1px;margin: -1px;overflow: hidden;padding: 0;position: absolute;width: 1px;}#sk-container-id-50 div.sk-estimator {font-family: monospace;background-color: #f0f8ff;border: 1px dotted black;border-radius: 0.25em;box-sizing: border-box;margin-bottom: 0.5em;}#sk-container-id-50 div.sk-estimator:hover {background-color: #d4ebff;}#sk-container-id-50 div.sk-parallel-item::after {content: \"\";width: 100%;border-bottom: 1px solid gray;flex-grow: 1;}#sk-container-id-50 div.sk-label:hover label.sk-toggleable__label {background-color: #d4ebff;}#sk-container-id-50 div.sk-serial::before {content: \"\";position: absolute;border-left: 1px solid gray;box-sizing: border-box;top: 0;bottom: 0;left: 50%;z-index: 0;}#sk-container-id-50 div.sk-serial {display: flex;flex-direction: column;align-items: center;background-color: white;padding-right: 0.2em;padding-left: 0.2em;position: relative;}#sk-container-id-50 div.sk-item {position: relative;z-index: 1;}#sk-container-id-50 div.sk-parallel {display: flex;align-items: stretch;justify-content: center;background-color: white;position: relative;}#sk-container-id-50 div.sk-item::before, #sk-container-id-50 div.sk-parallel-item::before {content: \"\";position: absolute;border-left: 1px solid gray;box-sizing: border-box;top: 0;bottom: 0;left: 50%;z-index: -1;}#sk-container-id-50 div.sk-parallel-item {display: flex;flex-direction: column;z-index: 1;position: relative;background-color: white;}#sk-container-id-50 div.sk-parallel-item:first-child::after {align-self: flex-end;width: 50%;}#sk-container-id-50 div.sk-parallel-item:last-child::after {align-self: flex-start;width: 50%;}#sk-container-id-50 div.sk-parallel-item:only-child::after {width: 0;}#sk-container-id-50 div.sk-dashed-wrapped {border: 1px dashed gray;margin: 0 0.4em 0.5em 0.4em;box-sizing: border-box;padding-bottom: 0.4em;background-color: white;}#sk-container-id-50 div.sk-label label {font-family: monospace;font-weight: bold;display: inline-block;line-height: 1.2em;}#sk-container-id-50 div.sk-label-container {text-align: center;}#sk-container-id-50 div.sk-container {/* jupyter's `normalize.less` sets `[hidden] { display: none; }` but bootstrap.min.css set `[hidden] { display: none !important; }` so we also need the `!important` here to be able to override the default hidden behavior on the sphinx rendered scikit-learn.org. See: https://github.com/scikit-learn/scikit-learn/issues/21755 */display: inline-block !important;position: relative;}#sk-container-id-50 div.sk-text-repr-fallback {display: none;}</style><div id=\"sk-container-id-50\" class=\"sk-top-container\"><div class=\"sk-text-repr-fallback\"><pre>LinearRegression()</pre><b>In a Jupyter environment, please rerun this cell to show the HTML representation or trust the notebook. <br />On GitHub, the HTML representation is unable to render, please try loading this page with nbviewer.org.</b></div><div class=\"sk-container\" hidden><div class=\"sk-item\"><div class=\"sk-estimator sk-toggleable\"><input class=\"sk-toggleable__control sk-hidden--visually\" id=\"sk-estimator-id-50\" type=\"checkbox\" checked><label for=\"sk-estimator-id-50\" class=\"sk-toggleable__label sk-toggleable__label-arrow\">LinearRegression</label><div class=\"sk-toggleable__content\"><pre>LinearRegression()</pre></div></div></div></div></div>"
            ]
          },
          "metadata": {},
          "execution_count": 465
        }
      ]
    },
    {
      "cell_type": "code",
      "source": [
        "# test data\n",
        "y_pred = lin.predict(X_test_poly)\n",
        "print(r2_score(y_test, y_pred))\n",
        "print(mean_absolute_error(y_test, y_pred))\n",
        "print(mean_squared_error(y_test, y_pred))"
      ],
      "metadata": {
        "colab": {
          "base_uri": "https://localhost:8080/"
        },
        "id": "SXedHoaBCbv9",
        "outputId": "72ba24bf-7380-4cc5-a279-1c7e75c364e2"
      },
      "execution_count": null,
      "outputs": [
        {
          "output_type": "stream",
          "name": "stdout",
          "text": [
            "-1.5345184806784982\n",
            "2333.1212121212066\n",
            "5729310.073425134\n"
          ]
        }
      ]
    },
    {
      "cell_type": "code",
      "source": [
        "# training data\n",
        "y_pred_train = lin.predict(X_poly_train)\n",
        "print(r2_score(y_train, y_pred_train))\n",
        "print(mean_absolute_error(y_train, y_pred_train))\n",
        "print(mean_squared_error(y_train, y_pred_train))"
      ],
      "metadata": {
        "colab": {
          "base_uri": "https://localhost:8080/"
        },
        "id": "aEv1SDuJCsKX",
        "outputId": "3ad632f3-384b-4acc-c053-0725d621c409"
      },
      "execution_count": null,
      "outputs": [
        {
          "output_type": "stream",
          "name": "stdout",
          "text": [
            "0.768289120398295\n",
            "823.2800000000007\n",
            "1775370.2169696968\n"
          ]
        }
      ]
    },
    {
      "cell_type": "markdown",
      "source": [
        "Error pada data train dengan degree 2 menghasilkan nilai yang lebih kecil dibandingkan dengan degree 6 sehingga akan dipilih degree 2 untuk digunakan pada model Polynomial Regression."
      ],
      "metadata": {
        "id": "Vbq7RPifM28N"
      }
    },
    {
      "cell_type": "code",
      "source": [
        "# Predicting sales for future years\n",
        "future_years = np.array([2023, 2024, 2025, 2026, 2027])\n",
        "X_future = future_years.reshape(-1, 1)\n",
        "X_future_scaled = scaler.transform(X_future)  # Assuming you have an X_scaler\n",
        "X_future_poly = poly.transform(X_future_scaled)\n",
        "y_future_pred = lin.predict(X_future_poly)\n",
        "\n",
        "# Visualizing the results\n",
        "X_range = np.linspace(min(X), max(X_future), 100)\n",
        "X_range_scaled = scaler.transform(X_range.reshape(-1, 1))\n",
        "X_range_poly = poly.transform(X_range_scaled)\n",
        "y_range_pred = lin.predict(X_range_poly)\n",
        "\n",
        "plt.scatter(X, y, label=\"Actual Data\")\n",
        "plt.plot(X_range, y_range_pred, color='red', label=\"Polynomial Regression\")\n",
        "plt.scatter(future_years, y_future_pred, color='green', label=\"Future Predictions\")\n",
        "plt.xlabel(\"Year\")\n",
        "plt.ylabel(\"Count\")\n",
        "plt.title(\"Polynomial Regression for Tesla Sales Prediction\")\n",
        "plt.legend()\n",
        "plt.show()\n",
        "\n",
        "print(\"Predicted Sales for Future Years:\")\n",
        "for year, count in zip(future_years, y_future_pred):\n",
        "    print(f\"Year: {year}, Predicted Count: {count:.2f}\")"
      ],
      "metadata": {
        "colab": {
          "base_uri": "https://localhost:8080/",
          "height": 576
        },
        "id": "SyEuYr6eFkyO",
        "outputId": "ad58ba85-6d01-48fb-b7fd-5b6b7246679a"
      },
      "execution_count": null,
      "outputs": [
        {
          "output_type": "display_data",
          "data": {
            "text/plain": [
              "<Figure size 640x480 with 1 Axes>"
            ],
            "image/png": "[encoded data removed]"
          },
          "metadata": {}
        },
        {
          "output_type": "stream",
          "name": "stdout",
          "text": [
            "Predicted Sales for Future Years:\n",
            "Year: 2023, Predicted Count: 13136.76\n",
            "Year: 2024, Predicted Count: 15450.15\n",
            "Year: 2025, Predicted Count: 17951.39\n",
            "Year: 2026, Predicted Count: 20640.47\n",
            "Year: 2027, Predicted Count: 23517.41\n"
          ]
        }
      ]
    },
    {
      "cell_type": "markdown",
      "source": [
        "### NISSAN"
      ],
      "metadata": {
        "id": "KNKl8VtMIY_I"
      }
    },
    {
      "cell_type": "code",
      "source": [
        "# Separate features and target\n",
        "X = data_nissan['Year'].values.reshape(-1, 1)  # Reshape for single feature\n",
        "y = data_nissan['Count'].values\n",
        "\n",
        "# Splitting data into training and testing sets\n",
        "X_train = X[:10]\n",
        "y_train = y[:10]\n",
        "\n",
        "X_test = X[10:]\n",
        "y_test = y[10:]"
      ],
      "metadata": {
        "id": "igSdUFiUPPyg"
      },
      "execution_count": null,
      "outputs": []
    },
    {
      "cell_type": "code",
      "source": [
        "from sklearn.preprocessing import StandardScaler\n",
        "scaler = StandardScaler()\n",
        "X_train_scaler = scaler.fit_transform(X_train)\n",
        "X_test_scaler = scaler.transform(X_test)"
      ],
      "metadata": {
        "id": "2ksH-d0nPPyh"
      },
      "execution_count": null,
      "outputs": []
    },
    {
      "cell_type": "code",
      "source": [
        "# Transform features to polynomial features\n",
        "poly = PolynomialFeatures(degree=6)\n",
        "X_poly_train = poly.fit_transform(X_train_scaler)\n",
        "X_test_poly = poly.transform(X_test_scaler)\n",
        "\n",
        "# Creating and training the polynomial regression model\n",
        "lin = LinearRegression()\n",
        "poly.fit(X_poly_train, y_train)\n",
        "lin.fit(X_poly_train, y_train)"
      ],
      "metadata": {
        "colab": {
          "base_uri": "https://localhost:8080/",
          "height": 74
        },
        "outputId": "2f1e76ff-0d06-4027-9b80-8235d5009ada",
        "id": "oPCowiHePPyi"
      },
      "execution_count": null,
      "outputs": [
        {
          "output_type": "execute_result",
          "data": {
            "text/plain": [
              "LinearRegression()"
            ],
            "text/html": [
              "<style>#sk-container-id-51 {color: black;background-color: white;}#sk-container-id-51 pre{padding: 0;}#sk-container-id-51 div.sk-toggleable {background-color: white;}#sk-container-id-51 label.sk-toggleable__label {cursor: pointer;display: block;width: 100%;margin-bottom: 0;padding: 0.3em;box-sizing: border-box;text-align: center;}#sk-container-id-51 label.sk-toggleable__label-arrow:before {content: \"▸\";float: left;margin-right: 0.25em;color: #696969;}#sk-container-id-51 label.sk-toggleable__label-arrow:hover:before {color: black;}#sk-container-id-51 div.sk-estimator:hover label.sk-toggleable__label-arrow:before {color: black;}#sk-container-id-51 div.sk-toggleable__content {max-height: 0;max-width: 0;overflow: hidden;text-align: left;background-color: #f0f8ff;}#sk-container-id-51 div.sk-toggleable__content pre {margin: 0.2em;color: black;border-radius: 0.25em;background-color: #f0f8ff;}#sk-container-id-51 input.sk-toggleable__control:checked~div.sk-toggleable__content {max-height: 200px;max-width: 100%;overflow: auto;}#sk-container-id-51 input.sk-toggleable__control:checked~label.sk-toggleable__label-arrow:before {content: \"▾\";}#sk-container-id-51 div.sk-estimator input.sk-toggleable__control:checked~label.sk-toggleable__label {background-color: #d4ebff;}#sk-container-id-51 div.sk-label input.sk-toggleable__control:checked~label.sk-toggleable__label {background-color: #d4ebff;}#sk-container-id-51 input.sk-hidden--visually {border: 0;clip: rect(1px 1px 1px 1px);clip: rect(1px, 1px, 1px, 1px);height: 1px;margin: -1px;overflow: hidden;padding: 0;position: absolute;width: 1px;}#sk-container-id-51 div.sk-estimator {font-family: monospace;background-color: #f0f8ff;border: 1px dotted black;border-radius: 0.25em;box-sizing: border-box;margin-bottom: 0.5em;}#sk-container-id-51 div.sk-estimator:hover {background-color: #d4ebff;}#sk-container-id-51 div.sk-parallel-item::after {content: \"\";width: 100%;border-bottom: 1px solid gray;flex-grow: 1;}#sk-container-id-51 div.sk-label:hover label.sk-toggleable__label {background-color: #d4ebff;}#sk-container-id-51 div.sk-serial::before {content: \"\";position: absolute;border-left: 1px solid gray;box-sizing: border-box;top: 0;bottom: 0;left: 50%;z-index: 0;}#sk-container-id-51 div.sk-serial {display: flex;flex-direction: column;align-items: center;background-color: white;padding-right: 0.2em;padding-left: 0.2em;position: relative;}#sk-container-id-51 div.sk-item {position: relative;z-index: 1;}#sk-container-id-51 div.sk-parallel {display: flex;align-items: stretch;justify-content: center;background-color: white;position: relative;}#sk-container-id-51 div.sk-item::before, #sk-container-id-51 div.sk-parallel-item::before {content: \"\";position: absolute;border-left: 1px solid gray;box-sizing: border-box;top: 0;bottom: 0;left: 50%;z-index: -1;}#sk-container-id-51 div.sk-parallel-item {display: flex;flex-direction: column;z-index: 1;position: relative;background-color: white;}#sk-container-id-51 div.sk-parallel-item:first-child::after {align-self: flex-end;width: 50%;}#sk-container-id-51 div.sk-parallel-item:last-child::after {align-self: flex-start;width: 50%;}#sk-container-id-51 div.sk-parallel-item:only-child::after {width: 0;}#sk-container-id-51 div.sk-dashed-wrapped {border: 1px dashed gray;margin: 0 0.4em 0.5em 0.4em;box-sizing: border-box;padding-bottom: 0.4em;background-color: white;}#sk-container-id-51 div.sk-label label {font-family: monospace;font-weight: bold;display: inline-block;line-height: 1.2em;}#sk-container-id-51 div.sk-label-container {text-align: center;}#sk-container-id-51 div.sk-container {/* jupyter's `normalize.less` sets `[hidden] { display: none; }` but bootstrap.min.css set `[hidden] { display: none !important; }` so we also need the `!important` here to be able to override the default hidden behavior on the sphinx rendered scikit-learn.org. See: https://github.com/scikit-learn/scikit-learn/issues/21755 */display: inline-block !important;position: relative;}#sk-container-id-51 div.sk-text-repr-fallback {display: none;}</style><div id=\"sk-container-id-51\" class=\"sk-top-container\"><div class=\"sk-text-repr-fallback\"><pre>LinearRegression()</pre><b>In a Jupyter environment, please rerun this cell to show the HTML representation or trust the notebook. <br />On GitHub, the HTML representation is unable to render, please try loading this page with nbviewer.org.</b></div><div class=\"sk-container\" hidden><div class=\"sk-item\"><div class=\"sk-estimator sk-toggleable\"><input class=\"sk-toggleable__control sk-hidden--visually\" id=\"sk-estimator-id-51\" type=\"checkbox\" checked><label for=\"sk-estimator-id-51\" class=\"sk-toggleable__label sk-toggleable__label-arrow\">LinearRegression</label><div class=\"sk-toggleable__content\"><pre>LinearRegression()</pre></div></div></div></div></div>"
            ]
          },
          "metadata": {},
          "execution_count": 471
        }
      ]
    },
    {
      "cell_type": "code",
      "source": [
        "# Predicted ‘count’ for the test data\n",
        "y_pred = lin.predict(X_test_poly)\n",
        "mean_absolute_error(y_test, y_pred)"
      ],
      "metadata": {
        "colab": {
          "base_uri": "https://localhost:8080/"
        },
        "outputId": "a4633780-6c15-4c8d-ca7b-63dfc91df30a",
        "id": "qPREARZOPPyi"
      },
      "execution_count": null,
      "outputs": [
        {
          "output_type": "execute_result",
          "data": {
            "text/plain": [
              "8102.018181818197"
            ]
          },
          "metadata": {},
          "execution_count": 472
        }
      ]
    },
    {
      "cell_type": "code",
      "source": [
        "# Model performing on training data\n",
        "y_pred_train = lin.predict(X_poly_train)\n",
        "mean_absolute_error(y_train, y_pred_train)"
      ],
      "metadata": {
        "colab": {
          "base_uri": "https://localhost:8080/"
        },
        "outputId": "b8969dda-c53b-4715-ec95-8736d064c589",
        "id": "ViWcsg9pPPyj"
      },
      "execution_count": null,
      "outputs": [
        {
          "output_type": "execute_result",
          "data": {
            "text/plain": [
              "245.85165501165483"
            ]
          },
          "metadata": {},
          "execution_count": 473
        }
      ]
    },
    {
      "cell_type": "markdown",
      "source": [
        "Pada data train, *mean absolute error* jauh lebih kecil daripada *mean absolute error* pada data test. Ini berarti model telah mempelajari data train dengan sangat baik sehingga hanya dapat berperforma baik pada data train.\n",
        "\n",
        "Ketika kita mencoba beberapa data baru, model berperforma buruk. Hal ini disebut sebagai overfitting. Kami tidak ingin terjadi overfitting. Kami ingin model dapat berperforma baik pada berbagai data. Oleh karena itu, kami melakukan hyperparameter tuning untuk menghasilkan kinerja model yang terbaik."
      ],
      "metadata": {
        "id": "nHDsvIKbPPyj"
      }
    },
    {
      "cell_type": "code",
      "source": [
        "poly = PolynomialFeatures(degree=3)\n",
        "X_poly_train = poly.fit_transform(X_train_scaler)\n",
        "X_test_poly = poly.transform(X_test_scaler)\n",
        "\n",
        "lin = LinearRegression()\n",
        "lin.fit(X_poly_train, y_train)"
      ],
      "metadata": {
        "colab": {
          "base_uri": "https://localhost:8080/",
          "height": 74
        },
        "outputId": "d233949e-c668-406f-c0c1-ea5002023fa3",
        "id": "3CwQqqRrPPyj"
      },
      "execution_count": null,
      "outputs": [
        {
          "output_type": "execute_result",
          "data": {
            "text/plain": [
              "LinearRegression()"
            ],
            "text/html": [
              "<style>#sk-container-id-52 {color: black;background-color: white;}#sk-container-id-52 pre{padding: 0;}#sk-container-id-52 div.sk-toggleable {background-color: white;}#sk-container-id-52 label.sk-toggleable__label {cursor: pointer;display: block;width: 100%;margin-bottom: 0;padding: 0.3em;box-sizing: border-box;text-align: center;}#sk-container-id-52 label.sk-toggleable__label-arrow:before {content: \"▸\";float: left;margin-right: 0.25em;color: #696969;}#sk-container-id-52 label.sk-toggleable__label-arrow:hover:before {color: black;}#sk-container-id-52 div.sk-estimator:hover label.sk-toggleable__label-arrow:before {color: black;}#sk-container-id-52 div.sk-toggleable__content {max-height: 0;max-width: 0;overflow: hidden;text-align: left;background-color: #f0f8ff;}#sk-container-id-52 div.sk-toggleable__content pre {margin: 0.2em;color: black;border-radius: 0.25em;background-color: #f0f8ff;}#sk-container-id-52 input.sk-toggleable__control:checked~div.sk-toggleable__content {max-height: 200px;max-width: 100%;overflow: auto;}#sk-container-id-52 input.sk-toggleable__control:checked~label.sk-toggleable__label-arrow:before {content: \"▾\";}#sk-container-id-52 div.sk-estimator input.sk-toggleable__control:checked~label.sk-toggleable__label {background-color: #d4ebff;}#sk-container-id-52 div.sk-label input.sk-toggleable__control:checked~label.sk-toggleable__label {background-color: #d4ebff;}#sk-container-id-52 input.sk-hidden--visually {border: 0;clip: rect(1px 1px 1px 1px);clip: rect(1px, 1px, 1px, 1px);height: 1px;margin: -1px;overflow: hidden;padding: 0;position: absolute;width: 1px;}#sk-container-id-52 div.sk-estimator {font-family: monospace;background-color: #f0f8ff;border: 1px dotted black;border-radius: 0.25em;box-sizing: border-box;margin-bottom: 0.5em;}#sk-container-id-52 div.sk-estimator:hover {background-color: #d4ebff;}#sk-container-id-52 div.sk-parallel-item::after {content: \"\";width: 100%;border-bottom: 1px solid gray;flex-grow: 1;}#sk-container-id-52 div.sk-label:hover label.sk-toggleable__label {background-color: #d4ebff;}#sk-container-id-52 div.sk-serial::before {content: \"\";position: absolute;border-left: 1px solid gray;box-sizing: border-box;top: 0;bottom: 0;left: 50%;z-index: 0;}#sk-container-id-52 div.sk-serial {display: flex;flex-direction: column;align-items: center;background-color: white;padding-right: 0.2em;padding-left: 0.2em;position: relative;}#sk-container-id-52 div.sk-item {position: relative;z-index: 1;}#sk-container-id-52 div.sk-parallel {display: flex;align-items: stretch;justify-content: center;background-color: white;position: relative;}#sk-container-id-52 div.sk-item::before, #sk-container-id-52 div.sk-parallel-item::before {content: \"\";position: absolute;border-left: 1px solid gray;box-sizing: border-box;top: 0;bottom: 0;left: 50%;z-index: -1;}#sk-container-id-52 div.sk-parallel-item {display: flex;flex-direction: column;z-index: 1;position: relative;background-color: white;}#sk-container-id-52 div.sk-parallel-item:first-child::after {align-self: flex-end;width: 50%;}#sk-container-id-52 div.sk-parallel-item:last-child::after {align-self: flex-start;width: 50%;}#sk-container-id-52 div.sk-parallel-item:only-child::after {width: 0;}#sk-container-id-52 div.sk-dashed-wrapped {border: 1px dashed gray;margin: 0 0.4em 0.5em 0.4em;box-sizing: border-box;padding-bottom: 0.4em;background-color: white;}#sk-container-id-52 div.sk-label label {font-family: monospace;font-weight: bold;display: inline-block;line-height: 1.2em;}#sk-container-id-52 div.sk-label-container {text-align: center;}#sk-container-id-52 div.sk-container {/* jupyter's `normalize.less` sets `[hidden] { display: none; }` but bootstrap.min.css set `[hidden] { display: none !important; }` so we also need the `!important` here to be able to override the default hidden behavior on the sphinx rendered scikit-learn.org. See: https://github.com/scikit-learn/scikit-learn/issues/21755 */display: inline-block !important;position: relative;}#sk-container-id-52 div.sk-text-repr-fallback {display: none;}</style><div id=\"sk-container-id-52\" class=\"sk-top-container\"><div class=\"sk-text-repr-fallback\"><pre>LinearRegression()</pre><b>In a Jupyter environment, please rerun this cell to show the HTML representation or trust the notebook. <br />On GitHub, the HTML representation is unable to render, please try loading this page with nbviewer.org.</b></div><div class=\"sk-container\" hidden><div class=\"sk-item\"><div class=\"sk-estimator sk-toggleable\"><input class=\"sk-toggleable__control sk-hidden--visually\" id=\"sk-estimator-id-52\" type=\"checkbox\" checked><label for=\"sk-estimator-id-52\" class=\"sk-toggleable__label sk-toggleable__label-arrow\">LinearRegression</label><div class=\"sk-toggleable__content\"><pre>LinearRegression()</pre></div></div></div></div></div>"
            ]
          },
          "metadata": {},
          "execution_count": 474
        }
      ]
    },
    {
      "cell_type": "code",
      "source": [
        "# test data\n",
        "y_pred = lin.predict(X_test_poly)\n",
        "print(r2_score(y_test, y_pred))\n",
        "print(mean_absolute_error(y_test, y_pred))\n",
        "print(mean_squared_error(y_test, y_pred))"
      ],
      "metadata": {
        "colab": {
          "base_uri": "https://localhost:8080/"
        },
        "outputId": "2c209ea2-2a97-48e3-9ccf-e53ad8951d0b",
        "id": "mGlPrxMGPPyk"
      },
      "execution_count": null,
      "outputs": [
        {
          "output_type": "stream",
          "name": "stdout",
          "text": [
            "-1.0562657661084738\n",
            "315.23484848484867\n",
            "112112.23616620773\n"
          ]
        }
      ]
    },
    {
      "cell_type": "code",
      "source": [
        "# training data\n",
        "y_pred_train = lin.predict(X_poly_train)\n",
        "print(r2_score(y_train, y_pred_train))\n",
        "print(mean_absolute_error(y_train, y_pred_train))\n",
        "print(mean_squared_error(y_train, y_pred_train))"
      ],
      "metadata": {
        "colab": {
          "base_uri": "https://localhost:8080/"
        },
        "outputId": "16b1d776-7a8d-4fdc-c770-00cc25fa0a19",
        "id": "OOSh6j5SPPyk"
      },
      "execution_count": null,
      "outputs": [
        {
          "output_type": "stream",
          "name": "stdout",
          "text": [
            "0.22566482551657252\n",
            "348.90046620046616\n",
            "172496.95102564103\n"
          ]
        }
      ]
    },
    {
      "cell_type": "markdown",
      "source": [
        "Error pada data train dengan degree 3 menghasilkan nilai yang lebih kecil dibandingkan dengan degree 6 sehingga akan dipilih degree 3 untuk digunakan pada model Polynomial Regression."
      ],
      "metadata": {
        "id": "BiPXGGMUPPyk"
      }
    },
    {
      "cell_type": "code",
      "source": [
        "# Predicting sales for future years\n",
        "future_years = np.array([2023, 2024, 2025, 2026, 2027])\n",
        "X_future = future_years.reshape(-1, 1)\n",
        "X_future_scaled = scaler.transform(X_future)  # Assuming you have an X_scaler\n",
        "X_future_poly = poly.transform(X_future_scaled)\n",
        "y_future_pred = lin.predict(X_future_poly)\n",
        "\n",
        "# Visualizing the results\n",
        "X_range = np.linspace(min(X), max(X_future), 100)\n",
        "X_range_scaled = scaler.transform(X_range.reshape(-1, 1))\n",
        "X_range_poly = poly.transform(X_range_scaled)\n",
        "y_range_pred = lin.predict(X_range_poly)\n",
        "\n",
        "plt.scatter(X, y, label=\"Actual Data\")\n",
        "plt.plot(X_range, y_range_pred, color='red', label=\"Polynomial Regression\")\n",
        "plt.scatter(future_years, y_future_pred, color='green', label=\"Future Predictions\")\n",
        "plt.xlabel(\"Year\")\n",
        "plt.ylabel(\"Count\")\n",
        "plt.title(\"Polynomial Regression for Nissan Sales Prediction\")\n",
        "plt.legend()\n",
        "plt.show()\n",
        "\n",
        "print(\"Predicted Sales for Future Years:\")\n",
        "for year, count in zip(future_years, y_future_pred):\n",
        "    print(f\"Year: {year}, Predicted Count: {count:.2f}\")"
      ],
      "metadata": {
        "colab": {
          "base_uri": "https://localhost:8080/",
          "height": 576
        },
        "outputId": "c5804ab1-185a-4ce4-d10d-091c40b0374e",
        "id": "1w98XUFRPPyl"
      },
      "execution_count": null,
      "outputs": [
        {
          "output_type": "display_data",
          "data": {
            "text/plain": [
              "<Figure size 640x480 with 1 Axes>"
            ],
            "image/png": "[encoded data removed]"
          },
          "metadata": {}
        },
        {
          "output_type": "stream",
          "name": "stdout",
          "text": [
            "Predicted Sales for Future Years:\n",
            "Year: 2023, Predicted Count: 366.23\n",
            "Year: 2024, Predicted Count: 250.39\n",
            "Year: 2025, Predicted Count: 176.39\n",
            "Year: 2026, Predicted Count: 156.25\n",
            "Year: 2027, Predicted Count: 201.99\n"
          ]
        }
      ]
    },
    {
      "cell_type": "markdown",
      "source": [
        "### CHEVROLET"
      ],
      "metadata": {
        "id": "rd42dnJ8SIIM"
      }
    },
    {
      "cell_type": "code",
      "source": [
        "# Separate features and target\n",
        "X = data_chevrolet['Year'].values.reshape(-1, 1)  # Reshape for single feature\n",
        "y = data_chevrolet['Count'].values\n",
        "\n",
        "# Splitting data into training and testing sets\n",
        "X_train = X[:10]\n",
        "y_train = y[:10]\n",
        "\n",
        "X_test = X[10:]\n",
        "y_test = y[10:]"
      ],
      "metadata": {
        "id": "hvoZ7bHPSKqf"
      },
      "execution_count": null,
      "outputs": []
    },
    {
      "cell_type": "code",
      "source": [
        "from sklearn.preprocessing import StandardScaler\n",
        "scaler = StandardScaler()\n",
        "X_train_scaler = scaler.fit_transform(X_train)\n",
        "X_test_scaler = scaler.transform(X_test)"
      ],
      "metadata": {
        "id": "hqZvZfxsSKqg"
      },
      "execution_count": null,
      "outputs": []
    },
    {
      "cell_type": "code",
      "source": [
        "# Transform features to polynomial features\n",
        "poly = PolynomialFeatures(degree=6)\n",
        "X_poly_train = poly.fit_transform(X_train_scaler)\n",
        "X_test_poly = poly.transform(X_test_scaler)\n",
        "\n",
        "# Creating and training the polynomial regression model\n",
        "lin = LinearRegression()\n",
        "poly.fit(X_poly_train, y_train)\n",
        "lin.fit(X_poly_train, y_train)"
      ],
      "metadata": {
        "colab": {
          "base_uri": "https://localhost:8080/",
          "height": 74
        },
        "outputId": "6aa9f852-cbe0-4477-cf50-0d8a0a75ec3a",
        "id": "EoJCmJJISKqg"
      },
      "execution_count": null,
      "outputs": [
        {
          "output_type": "execute_result",
          "data": {
            "text/plain": [
              "LinearRegression()"
            ],
            "text/html": [
              "<style>#sk-container-id-53 {color: black;background-color: white;}#sk-container-id-53 pre{padding: 0;}#sk-container-id-53 div.sk-toggleable {background-color: white;}#sk-container-id-53 label.sk-toggleable__label {cursor: pointer;display: block;width: 100%;margin-bottom: 0;padding: 0.3em;box-sizing: border-box;text-align: center;}#sk-container-id-53 label.sk-toggleable__label-arrow:before {content: \"▸\";float: left;margin-right: 0.25em;color: #696969;}#sk-container-id-53 label.sk-toggleable__label-arrow:hover:before {color: black;}#sk-container-id-53 div.sk-estimator:hover label.sk-toggleable__label-arrow:before {color: black;}#sk-container-id-53 div.sk-toggleable__content {max-height: 0;max-width: 0;overflow: hidden;text-align: left;background-color: #f0f8ff;}#sk-container-id-53 div.sk-toggleable__content pre {margin: 0.2em;color: black;border-radius: 0.25em;background-color: #f0f8ff;}#sk-container-id-53 input.sk-toggleable__control:checked~div.sk-toggleable__content {max-height: 200px;max-width: 100%;overflow: auto;}#sk-container-id-53 input.sk-toggleable__control:checked~label.sk-toggleable__label-arrow:before {content: \"▾\";}#sk-container-id-53 div.sk-estimator input.sk-toggleable__control:checked~label.sk-toggleable__label {background-color: #d4ebff;}#sk-container-id-53 div.sk-label input.sk-toggleable__control:checked~label.sk-toggleable__label {background-color: #d4ebff;}#sk-container-id-53 input.sk-hidden--visually {border: 0;clip: rect(1px 1px 1px 1px);clip: rect(1px, 1px, 1px, 1px);height: 1px;margin: -1px;overflow: hidden;padding: 0;position: absolute;width: 1px;}#sk-container-id-53 div.sk-estimator {font-family: monospace;background-color: #f0f8ff;border: 1px dotted black;border-radius: 0.25em;box-sizing: border-box;margin-bottom: 0.5em;}#sk-container-id-53 div.sk-estimator:hover {background-color: #d4ebff;}#sk-container-id-53 div.sk-parallel-item::after {content: \"\";width: 100%;border-bottom: 1px solid gray;flex-grow: 1;}#sk-container-id-53 div.sk-label:hover label.sk-toggleable__label {background-color: #d4ebff;}#sk-container-id-53 div.sk-serial::before {content: \"\";position: absolute;border-left: 1px solid gray;box-sizing: border-box;top: 0;bottom: 0;left: 50%;z-index: 0;}#sk-container-id-53 div.sk-serial {display: flex;flex-direction: column;align-items: center;background-color: white;padding-right: 0.2em;padding-left: 0.2em;position: relative;}#sk-container-id-53 div.sk-item {position: relative;z-index: 1;}#sk-container-id-53 div.sk-parallel {display: flex;align-items: stretch;justify-content: center;background-color: white;position: relative;}#sk-container-id-53 div.sk-item::before, #sk-container-id-53 div.sk-parallel-item::before {content: \"\";position: absolute;border-left: 1px solid gray;box-sizing: border-box;top: 0;bottom: 0;left: 50%;z-index: -1;}#sk-container-id-53 div.sk-parallel-item {display: flex;flex-direction: column;z-index: 1;position: relative;background-color: white;}#sk-container-id-53 div.sk-parallel-item:first-child::after {align-self: flex-end;width: 50%;}#sk-container-id-53 div.sk-parallel-item:last-child::after {align-self: flex-start;width: 50%;}#sk-container-id-53 div.sk-parallel-item:only-child::after {width: 0;}#sk-container-id-53 div.sk-dashed-wrapped {border: 1px dashed gray;margin: 0 0.4em 0.5em 0.4em;box-sizing: border-box;padding-bottom: 0.4em;background-color: white;}#sk-container-id-53 div.sk-label label {font-family: monospace;font-weight: bold;display: inline-block;line-height: 1.2em;}#sk-container-id-53 div.sk-label-container {text-align: center;}#sk-container-id-53 div.sk-container {/* jupyter's `normalize.less` sets `[hidden] { display: none; }` but bootstrap.min.css set `[hidden] { display: none !important; }` so we also need the `!important` here to be able to override the default hidden behavior on the sphinx rendered scikit-learn.org. See: https://github.com/scikit-learn/scikit-learn/issues/21755 */display: inline-block !important;position: relative;}#sk-container-id-53 div.sk-text-repr-fallback {display: none;}</style><div id=\"sk-container-id-53\" class=\"sk-top-container\"><div class=\"sk-text-repr-fallback\"><pre>LinearRegression()</pre><b>In a Jupyter environment, please rerun this cell to show the HTML representation or trust the notebook. <br />On GitHub, the HTML representation is unable to render, please try loading this page with nbviewer.org.</b></div><div class=\"sk-container\" hidden><div class=\"sk-item\"><div class=\"sk-estimator sk-toggleable\"><input class=\"sk-toggleable__control sk-hidden--visually\" id=\"sk-estimator-id-53\" type=\"checkbox\" checked><label for=\"sk-estimator-id-53\" class=\"sk-toggleable__label sk-toggleable__label-arrow\">LinearRegression</label><div class=\"sk-toggleable__content\"><pre>LinearRegression()</pre></div></div></div></div></div>"
            ]
          },
          "metadata": {},
          "execution_count": 480
        }
      ]
    },
    {
      "cell_type": "code",
      "source": [
        "# Predicted ‘count’ for the test data\n",
        "y_pred = lin.predict(X_test_poly)\n",
        "mean_absolute_error(y_test, y_pred)"
      ],
      "metadata": {
        "colab": {
          "base_uri": "https://localhost:8080/"
        },
        "outputId": "a117994c-dc5e-4500-c5b7-5233d4270f2a",
        "id": "X2ZjdotNSKqh"
      },
      "execution_count": null,
      "outputs": [
        {
          "output_type": "execute_result",
          "data": {
            "text/plain": [
              "31671.41818181821"
            ]
          },
          "metadata": {},
          "execution_count": 481
        }
      ]
    },
    {
      "cell_type": "code",
      "source": [
        "# Model performing on training data\n",
        "y_pred_train = lin.predict(X_poly_train)\n",
        "mean_absolute_error(y_train, y_pred_train)"
      ],
      "metadata": {
        "colab": {
          "base_uri": "https://localhost:8080/"
        },
        "outputId": "7d25bd3c-b227-44aa-f25f-8f96488172e5",
        "id": "E3ijrGdwSKqh"
      },
      "execution_count": null,
      "outputs": [
        {
          "output_type": "execute_result",
          "data": {
            "text/plain": [
              "291.34354312354486"
            ]
          },
          "metadata": {},
          "execution_count": 482
        }
      ]
    },
    {
      "cell_type": "markdown",
      "source": [
        "Pada data train, *mean absolute error* jauh lebih kecil daripada *mean absolute error* pada data test. Ini berarti model telah mempelajari data train dengan sangat baik sehingga hanya dapat berperforma baik pada data train.\n",
        "\n",
        "Ketika kita mencoba beberapa data baru, model berperforma buruk. Hal ini disebut sebagai overfitting. Kami tidak ingin terjadi overfitting. Kami ingin model dapat berperforma baik pada berbagai data. Oleh karena itu, kami melakukan hyperparameter tuning untuk menghasilkan kinerja model yang terbaik."
      ],
      "metadata": {
        "id": "Evs1x5U2SKqh"
      }
    },
    {
      "cell_type": "code",
      "source": [
        "poly = PolynomialFeatures(degree=2)\n",
        "X_poly_train = poly.fit_transform(X_train_scaler)\n",
        "X_test_poly = poly.transform(X_test_scaler)\n",
        "\n",
        "lin = LinearRegression()\n",
        "lin.fit(X_poly_train, y_train)"
      ],
      "metadata": {
        "colab": {
          "base_uri": "https://localhost:8080/",
          "height": 74
        },
        "outputId": "dc4b612d-37d4-4568-9174-fec6811ffdf2",
        "id": "5eSVDDp4SKqi"
      },
      "execution_count": null,
      "outputs": [
        {
          "output_type": "execute_result",
          "data": {
            "text/plain": [
              "LinearRegression()"
            ],
            "text/html": [
              "<style>#sk-container-id-54 {color: black;background-color: white;}#sk-container-id-54 pre{padding: 0;}#sk-container-id-54 div.sk-toggleable {background-color: white;}#sk-container-id-54 label.sk-toggleable__label {cursor: pointer;display: block;width: 100%;margin-bottom: 0;padding: 0.3em;box-sizing: border-box;text-align: center;}#sk-container-id-54 label.sk-toggleable__label-arrow:before {content: \"▸\";float: left;margin-right: 0.25em;color: #696969;}#sk-container-id-54 label.sk-toggleable__label-arrow:hover:before {color: black;}#sk-container-id-54 div.sk-estimator:hover label.sk-toggleable__label-arrow:before {color: black;}#sk-container-id-54 div.sk-toggleable__content {max-height: 0;max-width: 0;overflow: hidden;text-align: left;background-color: #f0f8ff;}#sk-container-id-54 div.sk-toggleable__content pre {margin: 0.2em;color: black;border-radius: 0.25em;background-color: #f0f8ff;}#sk-container-id-54 input.sk-toggleable__control:checked~div.sk-toggleable__content {max-height: 200px;max-width: 100%;overflow: auto;}#sk-container-id-54 input.sk-toggleable__control:checked~label.sk-toggleable__label-arrow:before {content: \"▾\";}#sk-container-id-54 div.sk-estimator input.sk-toggleable__control:checked~label.sk-toggleable__label {background-color: #d4ebff;}#sk-container-id-54 div.sk-label input.sk-toggleable__control:checked~label.sk-toggleable__label {background-color: #d4ebff;}#sk-container-id-54 input.sk-hidden--visually {border: 0;clip: rect(1px 1px 1px 1px);clip: rect(1px, 1px, 1px, 1px);height: 1px;margin: -1px;overflow: hidden;padding: 0;position: absolute;width: 1px;}#sk-container-id-54 div.sk-estimator {font-family: monospace;background-color: #f0f8ff;border: 1px dotted black;border-radius: 0.25em;box-sizing: border-box;margin-bottom: 0.5em;}#sk-container-id-54 div.sk-estimator:hover {background-color: #d4ebff;}#sk-container-id-54 div.sk-parallel-item::after {content: \"\";width: 100%;border-bottom: 1px solid gray;flex-grow: 1;}#sk-container-id-54 div.sk-label:hover label.sk-toggleable__label {background-color: #d4ebff;}#sk-container-id-54 div.sk-serial::before {content: \"\";position: absolute;border-left: 1px solid gray;box-sizing: border-box;top: 0;bottom: 0;left: 50%;z-index: 0;}#sk-container-id-54 div.sk-serial {display: flex;flex-direction: column;align-items: center;background-color: white;padding-right: 0.2em;padding-left: 0.2em;position: relative;}#sk-container-id-54 div.sk-item {position: relative;z-index: 1;}#sk-container-id-54 div.sk-parallel {display: flex;align-items: stretch;justify-content: center;background-color: white;position: relative;}#sk-container-id-54 div.sk-item::before, #sk-container-id-54 div.sk-parallel-item::before {content: \"\";position: absolute;border-left: 1px solid gray;box-sizing: border-box;top: 0;bottom: 0;left: 50%;z-index: -1;}#sk-container-id-54 div.sk-parallel-item {display: flex;flex-direction: column;z-index: 1;position: relative;background-color: white;}#sk-container-id-54 div.sk-parallel-item:first-child::after {align-self: flex-end;width: 50%;}#sk-container-id-54 div.sk-parallel-item:last-child::after {align-self: flex-start;width: 50%;}#sk-container-id-54 div.sk-parallel-item:only-child::after {width: 0;}#sk-container-id-54 div.sk-dashed-wrapped {border: 1px dashed gray;margin: 0 0.4em 0.5em 0.4em;box-sizing: border-box;padding-bottom: 0.4em;background-color: white;}#sk-container-id-54 div.sk-label label {font-family: monospace;font-weight: bold;display: inline-block;line-height: 1.2em;}#sk-container-id-54 div.sk-label-container {text-align: center;}#sk-container-id-54 div.sk-container {/* jupyter's `normalize.less` sets `[hidden] { display: none; }` but bootstrap.min.css set `[hidden] { display: none !important; }` so we also need the `!important` here to be able to override the default hidden behavior on the sphinx rendered scikit-learn.org. See: https://github.com/scikit-learn/scikit-learn/issues/21755 */display: inline-block !important;position: relative;}#sk-container-id-54 div.sk-text-repr-fallback {display: none;}</style><div id=\"sk-container-id-54\" class=\"sk-top-container\"><div class=\"sk-text-repr-fallback\"><pre>LinearRegression()</pre><b>In a Jupyter environment, please rerun this cell to show the HTML representation or trust the notebook. <br />On GitHub, the HTML representation is unable to render, please try loading this page with nbviewer.org.</b></div><div class=\"sk-container\" hidden><div class=\"sk-item\"><div class=\"sk-estimator sk-toggleable\"><input class=\"sk-toggleable__control sk-hidden--visually\" id=\"sk-estimator-id-54\" type=\"checkbox\" checked><label for=\"sk-estimator-id-54\" class=\"sk-toggleable__label sk-toggleable__label-arrow\">LinearRegression</label><div class=\"sk-toggleable__content\"><pre>LinearRegression()</pre></div></div></div></div></div>"
            ]
          },
          "metadata": {},
          "execution_count": 483
        }
      ]
    },
    {
      "cell_type": "code",
      "source": [
        "# test data\n",
        "y_pred = lin.predict(X_test_poly)\n",
        "print(r2_score(y_test, y_pred))\n",
        "print(mean_absolute_error(y_test, y_pred))\n",
        "print(mean_squared_error(y_test, y_pred))"
      ],
      "metadata": {
        "colab": {
          "base_uri": "https://localhost:8080/"
        },
        "outputId": "6fd48afa-b765-42ce-ffd5-72994cdda210",
        "id": "mCqv5yeiSKqi"
      },
      "execution_count": null,
      "outputs": [
        {
          "output_type": "stream",
          "name": "stdout",
          "text": [
            "-1.6568026878823838\n",
            "364.42878787878783\n",
            "210531.02279384783\n"
          ]
        }
      ]
    },
    {
      "cell_type": "code",
      "source": [
        "# training data\n",
        "y_pred_train = lin.predict(X_poly_train)\n",
        "print(r2_score(y_train, y_pred_train))\n",
        "print(mean_absolute_error(y_train, y_pred_train))\n",
        "print(mean_squared_error(y_train, y_pred_train))"
      ],
      "metadata": {
        "colab": {
          "base_uri": "https://localhost:8080/"
        },
        "outputId": "24901248-fbdd-4882-c7aa-5da1b3c66d41",
        "id": "MWKr01-YSKqj"
      },
      "execution_count": null,
      "outputs": [
        {
          "output_type": "stream",
          "name": "stdout",
          "text": [
            "0.2913998501539651\n",
            "370.9975757575759\n",
            "346938.59803030296\n"
          ]
        }
      ]
    },
    {
      "cell_type": "markdown",
      "source": [
        "Error pada data train dengan degree 3 menghasilkan nilai yang lebih kecil dibandingkan dengan degree 6 sehingga akan dipilih degree 3 untuk digunakan pada model Polynomial Regression."
      ],
      "metadata": {
        "id": "U9caVWIqSKqj"
      }
    },
    {
      "cell_type": "code",
      "source": [
        "# Predicting sales for future years\n",
        "future_years = np.array([2023, 2024, 2025, 2026, 2027])\n",
        "X_future = future_years.reshape(-1, 1)\n",
        "X_future_scaled = scaler.transform(X_future)  # Assuming you have an X_scaler\n",
        "X_future_poly = poly.transform(X_future_scaled)\n",
        "y_future_pred = lin.predict(X_future_poly)\n",
        "\n",
        "# Visualizing the results\n",
        "X_range = np.linspace(min(X), max(X_future), 100)\n",
        "X_range_scaled = scaler.transform(X_range.reshape(-1, 1))\n",
        "X_range_poly = poly.transform(X_range_scaled)\n",
        "y_range_pred = lin.predict(X_range_poly)\n",
        "\n",
        "plt.scatter(X, y, label=\"Actual Data\")\n",
        "plt.plot(X_range, y_range_pred, color='red', label=\"Polynomial Regression\")\n",
        "plt.scatter(future_years, y_future_pred, color='green', label=\"Future Predictions\")\n",
        "plt.xlabel(\"Year\")\n",
        "plt.ylabel(\"Count\")\n",
        "plt.title(\"Polynomial Regression for Chevrolet Sales Prediction\")\n",
        "plt.legend()\n",
        "plt.show()\n",
        "\n",
        "print(\"Predicted Sales for Future Years:\")\n",
        "for year, count in zip(future_years, y_future_pred):\n",
        "    print(f\"Year: {year}, Predicted Count: {count:.2f}\")"
      ],
      "metadata": {
        "colab": {
          "base_uri": "https://localhost:8080/",
          "height": 576
        },
        "outputId": "13d5622b-df64-4195-b140-2c31b4cf20d7",
        "id": "-rjAE1SaSKqj"
      },
      "execution_count": null,
      "outputs": [
        {
          "output_type": "display_data",
          "data": {
            "text/plain": [
              "<Figure size 640x480 with 1 Axes>"
            ],
            "image/png": "[encoded data removed]"
          },
          "metadata": {}
        },
        {
          "output_type": "stream",
          "name": "stdout",
          "text": [
            "Predicted Sales for Future Years:\n",
            "Year: 2023, Predicted Count: 615.33\n",
            "Year: 2024, Predicted Count: 355.12\n",
            "Year: 2025, Predicted Count: 47.74\n",
            "Year: 2026, Predicted Count: -306.81\n",
            "Year: 2027, Predicted Count: -708.54\n"
          ]
        }
      ]
    }
  ],
  "metadata": {
    "colab": {
      "provenance": [],
      "toc_visible": true
    },
    "kernelspec": {
      "display_name": "Python 3",
      "name": "python3"
    },
    "language_info": {
      "name": "python"
    }
  },
  "nbformat": 4,
  "nbformat_minor": 0
}